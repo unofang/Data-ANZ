{
  "nbformat": 4,
  "nbformat_minor": 0,
  "metadata": {
    "colab": {
      "name": "Task02_Predictive_Analytics.ipynb",
      "provenance": [],
      "collapsed_sections": []
    },
    "kernelspec": {
      "name": "python3",
      "display_name": "Python 3"
    },
    "language_info": {
      "name": "python"
    }
  },
  "cells": [
    {
      "cell_type": "markdown",
      "source": [
        "# **Predictive Analytics**\n",
        "\n",
        "For this task, you’ll likely need to use statistical software such as R, SAS, or Python.\n",
        "\n",
        "Using the same transaction dataset, identify the annual salary for each customer\n",
        "\n",
        "Explore correlations between annual salary and various customer attributes (e.g. age). These attributes could be those that are readily available in the data (e.g. age) or those that you construct or derive yourself (e.g. those relating to purchasing behaviour). Visualise any interesting correlations using a scatter plot.\n",
        "\n",
        "Build a simple regression model to predict the annual salary for each customer using the attributes you identified above\n",
        "\n",
        "How accurate is your model? Should ANZ use it to segment customers (for whom it does not have this data) into income brackets for reporting purposes?\n",
        "\n",
        "For a challenge: build a decision-tree based model to predict salary. Does it perform better? How would you accurately test the performance of this model?"
      ],
      "metadata": {
        "id": "_EbShRAVRad6"
      }
    },
    {
      "cell_type": "code",
      "execution_count": 270,
      "metadata": {
        "colab": {
          "base_uri": "https://localhost:8080/"
        },
        "id": "PRdggV99QWN9",
        "outputId": "5a92a331-d1ab-4ebf-e2f8-7582bbf17220"
      },
      "outputs": [
        {
          "output_type": "stream",
          "name": "stdout",
          "text": [
            "sample_data/README.md\n",
            "sample_data/anscombe.json\n",
            "sample_data/anz_synthesised_trans_data.csv\n",
            "sample_data/ANZ synthesised transaction dataset.xlsx\n",
            "sample_data/california_housing_test.csv\n",
            "sample_data/mnist_test.csv\n",
            "sample_data/mnist_train_small.csv\n",
            "sample_data/california_housing_train.csv\n"
          ]
        }
      ],
      "source": [
        "# This project is for Data@ANZ, written by UNO FANG on 10 Jun 2022\n",
        "\n",
        "# Import packages\n",
        "import os\n",
        "import numpy as np \n",
        "import pandas as pd \n",
        "import matplotlib.pyplot as plt\n",
        "import seaborn as sns\n",
        "from itertools import zip_longest\n",
        "\n",
        "import matplotlib.pyplot as plt\n",
        "from sklearn.linear_model import LinearRegression\n",
        "from sklearn import tree\n",
        "from sklearn.model_selection import train_test_split\n",
        "import sklearn.metrics as sm\n",
        "\n",
        "# get the dirs of all files under the sample_data folder\n",
        "for dirname, _, filenames in os.walk('sample_data'):\n",
        "    for filename in filenames:\n",
        "        print(os.path.join(dirname, filename))"
      ]
    },
    {
      "cell_type": "code",
      "source": [
        "anz_data_csv_dir = 'sample_data/anz_synthesised_trans_data.csv'\n",
        "if not os.path.isfile(anz_data_csv_dir):\n",
        "  # If not exsit the csv file, convert the xlsx file to csv format\n",
        "  read_file = pd.read_excel (r'sample_data/ANZ synthesised transaction dataset.xlsx')\n",
        "  read_file.to_csv (anz_data_csv_dir, index = None, header=True)\n",
        "\n",
        "# read out the csv file as data\n",
        "data = pd.read_csv(anz_data_csv_dir)\n",
        "data.shape"
      ],
      "metadata": {
        "colab": {
          "base_uri": "https://localhost:8080/"
        },
        "id": "ARKD2dCHSW3r",
        "outputId": "dee634c3-ad8c-4f14-a672-b003c5460fb0"
      },
      "execution_count": 3,
      "outputs": [
        {
          "output_type": "execute_result",
          "data": {
            "text/plain": [
              "(12043, 23)"
            ]
          },
          "metadata": {},
          "execution_count": 3
        }
      ]
    },
    {
      "cell_type": "markdown",
      "source": [
        "The metadata of this dataset (i.e., ANZ synthesised transaction dataset) has been demonstrated in the Task 01 Exploratory Data Analysis. Therefore, we will not show the meta in this task. "
      ],
      "metadata": {
        "id": "IzC7JC6PStYB"
      }
    },
    {
      "cell_type": "markdown",
      "source": [
        "# **Data Cleaning**\n",
        "\n",
        "*   Remove irrelevant attributes\n",
        "*   Check duplicates\n",
        "*   Cast correct types of values\n",
        "*   Build new columns for insight analysis\n",
        "\n",
        "\n"
      ],
      "metadata": {
        "id": "xptmMynmTRM7"
      }
    },
    {
      "cell_type": "code",
      "source": [
        "# drop irrelevant attributes (which have lots of null values)\n",
        "if hasattr(data, 'bpay_biller_code'):\n",
        "    data.drop(columns = ['bpay_biller_code', 'long_lat', 'country', 'merchant_long_lat', 'merchant_code'], axis = 1, inplace=True)\n",
        "# cast extraction as datetime\n",
        "data['extraction']= pd.to_datetime(data['extraction'])\n",
        "# establish new attributes indicating specific day and month\n",
        "data['day'] = data['extraction'].dt.day_name()\n",
        "data['month'] =data['extraction'].dt.month_name()\n",
        "\n",
        "data.head()"
      ],
      "metadata": {
        "colab": {
          "base_uri": "https://localhost:8080/",
          "height": 531
        },
        "id": "8aGozrZ6SnAH",
        "outputId": "a8c6ef48-ce18-4a70-dd87-e2ad696c7191"
      },
      "execution_count": 4,
      "outputs": [
        {
          "output_type": "execute_result",
          "data": {
            "text/plain": [
              "       status  card_present_flag         account currency txn_description  \\\n",
              "0  authorized                1.0  ACC-1598451071      AUD             POS   \n",
              "1  authorized                0.0  ACC-1598451071      AUD       SALES-POS   \n",
              "2  authorized                1.0  ACC-1222300524      AUD             POS   \n",
              "3  authorized                1.0  ACC-1037050564      AUD       SALES-POS   \n",
              "4  authorized                1.0  ACC-1598451071      AUD       SALES-POS   \n",
              "\n",
              "                            merchant_id first_name  balance        date  \\\n",
              "0  81c48296-73be-44a7-befa-d053f48ce7cd      Diana    35.39  2018-08-01   \n",
              "1  830a451c-316e-4a6a-bf25-e37caedca49e      Diana    21.20  2018-08-01   \n",
              "2  835c231d-8cdf-4e96-859d-e9d571760cf0    Michael     5.71  2018-08-01   \n",
              "3  48514682-c78a-4a88-b0da-2d6302e64673     Rhonda  2117.22  2018-08-01   \n",
              "4  b4e02c10-0852-4273-b8fd-7b3395e32eb0      Diana    17.95  2018-08-01   \n",
              "\n",
              "  gender  age merchant_suburb merchant_state                extraction  \\\n",
              "0      F   26         Ashmore            QLD 2018-08-01 01:01:15+00:00   \n",
              "1      F   26          Sydney            NSW 2018-08-01 01:13:45+00:00   \n",
              "2      M   38          Sydney            NSW 2018-08-01 01:26:15+00:00   \n",
              "3      F   40         Buderim            QLD 2018-08-01 01:38:45+00:00   \n",
              "4      F   26   Mermaid Beach            QLD 2018-08-01 01:51:15+00:00   \n",
              "\n",
              "   amount                    transaction_id     customer_id movement  \\\n",
              "0   16.25  a623070bfead4541a6b0fff8a09e706c  CUS-2487424745    debit   \n",
              "1   14.19  13270a2a902145da9db4c951e04b51b9  CUS-2487424745    debit   \n",
              "2    6.42  feb79e7ecd7048a5a36ec889d1a94270  CUS-2142601169    debit   \n",
              "3   40.90  2698170da3704fd981b15e64a006079e  CUS-1614226872    debit   \n",
              "4    3.25  329adf79878c4cf0aeb4188b4691c266  CUS-2487424745    debit   \n",
              "\n",
              "         day   month  \n",
              "0  Wednesday  August  \n",
              "1  Wednesday  August  \n",
              "2  Wednesday  August  \n",
              "3  Wednesday  August  \n",
              "4  Wednesday  August  "
            ],
            "text/html": [
              "\n",
              "  <div id=\"df-274f21fc-6c9a-4301-b6cb-21e3ec200266\">\n",
              "    <div class=\"colab-df-container\">\n",
              "      <div>\n",
              "<style scoped>\n",
              "    .dataframe tbody tr th:only-of-type {\n",
              "        vertical-align: middle;\n",
              "    }\n",
              "\n",
              "    .dataframe tbody tr th {\n",
              "        vertical-align: top;\n",
              "    }\n",
              "\n",
              "    .dataframe thead th {\n",
              "        text-align: right;\n",
              "    }\n",
              "</style>\n",
              "<table border=\"1\" class=\"dataframe\">\n",
              "  <thead>\n",
              "    <tr style=\"text-align: right;\">\n",
              "      <th></th>\n",
              "      <th>status</th>\n",
              "      <th>card_present_flag</th>\n",
              "      <th>account</th>\n",
              "      <th>currency</th>\n",
              "      <th>txn_description</th>\n",
              "      <th>merchant_id</th>\n",
              "      <th>first_name</th>\n",
              "      <th>balance</th>\n",
              "      <th>date</th>\n",
              "      <th>gender</th>\n",
              "      <th>age</th>\n",
              "      <th>merchant_suburb</th>\n",
              "      <th>merchant_state</th>\n",
              "      <th>extraction</th>\n",
              "      <th>amount</th>\n",
              "      <th>transaction_id</th>\n",
              "      <th>customer_id</th>\n",
              "      <th>movement</th>\n",
              "      <th>day</th>\n",
              "      <th>month</th>\n",
              "    </tr>\n",
              "  </thead>\n",
              "  <tbody>\n",
              "    <tr>\n",
              "      <th>0</th>\n",
              "      <td>authorized</td>\n",
              "      <td>1.0</td>\n",
              "      <td>ACC-1598451071</td>\n",
              "      <td>AUD</td>\n",
              "      <td>POS</td>\n",
              "      <td>81c48296-73be-44a7-befa-d053f48ce7cd</td>\n",
              "      <td>Diana</td>\n",
              "      <td>35.39</td>\n",
              "      <td>2018-08-01</td>\n",
              "      <td>F</td>\n",
              "      <td>26</td>\n",
              "      <td>Ashmore</td>\n",
              "      <td>QLD</td>\n",
              "      <td>2018-08-01 01:01:15+00:00</td>\n",
              "      <td>16.25</td>\n",
              "      <td>a623070bfead4541a6b0fff8a09e706c</td>\n",
              "      <td>CUS-2487424745</td>\n",
              "      <td>debit</td>\n",
              "      <td>Wednesday</td>\n",
              "      <td>August</td>\n",
              "    </tr>\n",
              "    <tr>\n",
              "      <th>1</th>\n",
              "      <td>authorized</td>\n",
              "      <td>0.0</td>\n",
              "      <td>ACC-1598451071</td>\n",
              "      <td>AUD</td>\n",
              "      <td>SALES-POS</td>\n",
              "      <td>830a451c-316e-4a6a-bf25-e37caedca49e</td>\n",
              "      <td>Diana</td>\n",
              "      <td>21.20</td>\n",
              "      <td>2018-08-01</td>\n",
              "      <td>F</td>\n",
              "      <td>26</td>\n",
              "      <td>Sydney</td>\n",
              "      <td>NSW</td>\n",
              "      <td>2018-08-01 01:13:45+00:00</td>\n",
              "      <td>14.19</td>\n",
              "      <td>13270a2a902145da9db4c951e04b51b9</td>\n",
              "      <td>CUS-2487424745</td>\n",
              "      <td>debit</td>\n",
              "      <td>Wednesday</td>\n",
              "      <td>August</td>\n",
              "    </tr>\n",
              "    <tr>\n",
              "      <th>2</th>\n",
              "      <td>authorized</td>\n",
              "      <td>1.0</td>\n",
              "      <td>ACC-1222300524</td>\n",
              "      <td>AUD</td>\n",
              "      <td>POS</td>\n",
              "      <td>835c231d-8cdf-4e96-859d-e9d571760cf0</td>\n",
              "      <td>Michael</td>\n",
              "      <td>5.71</td>\n",
              "      <td>2018-08-01</td>\n",
              "      <td>M</td>\n",
              "      <td>38</td>\n",
              "      <td>Sydney</td>\n",
              "      <td>NSW</td>\n",
              "      <td>2018-08-01 01:26:15+00:00</td>\n",
              "      <td>6.42</td>\n",
              "      <td>feb79e7ecd7048a5a36ec889d1a94270</td>\n",
              "      <td>CUS-2142601169</td>\n",
              "      <td>debit</td>\n",
              "      <td>Wednesday</td>\n",
              "      <td>August</td>\n",
              "    </tr>\n",
              "    <tr>\n",
              "      <th>3</th>\n",
              "      <td>authorized</td>\n",
              "      <td>1.0</td>\n",
              "      <td>ACC-1037050564</td>\n",
              "      <td>AUD</td>\n",
              "      <td>SALES-POS</td>\n",
              "      <td>48514682-c78a-4a88-b0da-2d6302e64673</td>\n",
              "      <td>Rhonda</td>\n",
              "      <td>2117.22</td>\n",
              "      <td>2018-08-01</td>\n",
              "      <td>F</td>\n",
              "      <td>40</td>\n",
              "      <td>Buderim</td>\n",
              "      <td>QLD</td>\n",
              "      <td>2018-08-01 01:38:45+00:00</td>\n",
              "      <td>40.90</td>\n",
              "      <td>2698170da3704fd981b15e64a006079e</td>\n",
              "      <td>CUS-1614226872</td>\n",
              "      <td>debit</td>\n",
              "      <td>Wednesday</td>\n",
              "      <td>August</td>\n",
              "    </tr>\n",
              "    <tr>\n",
              "      <th>4</th>\n",
              "      <td>authorized</td>\n",
              "      <td>1.0</td>\n",
              "      <td>ACC-1598451071</td>\n",
              "      <td>AUD</td>\n",
              "      <td>SALES-POS</td>\n",
              "      <td>b4e02c10-0852-4273-b8fd-7b3395e32eb0</td>\n",
              "      <td>Diana</td>\n",
              "      <td>17.95</td>\n",
              "      <td>2018-08-01</td>\n",
              "      <td>F</td>\n",
              "      <td>26</td>\n",
              "      <td>Mermaid Beach</td>\n",
              "      <td>QLD</td>\n",
              "      <td>2018-08-01 01:51:15+00:00</td>\n",
              "      <td>3.25</td>\n",
              "      <td>329adf79878c4cf0aeb4188b4691c266</td>\n",
              "      <td>CUS-2487424745</td>\n",
              "      <td>debit</td>\n",
              "      <td>Wednesday</td>\n",
              "      <td>August</td>\n",
              "    </tr>\n",
              "  </tbody>\n",
              "</table>\n",
              "</div>\n",
              "      <button class=\"colab-df-convert\" onclick=\"convertToInteractive('df-274f21fc-6c9a-4301-b6cb-21e3ec200266')\"\n",
              "              title=\"Convert this dataframe to an interactive table.\"\n",
              "              style=\"display:none;\">\n",
              "        \n",
              "  <svg xmlns=\"http://www.w3.org/2000/svg\" height=\"24px\"viewBox=\"0 0 24 24\"\n",
              "       width=\"24px\">\n",
              "    <path d=\"M0 0h24v24H0V0z\" fill=\"none\"/>\n",
              "    <path d=\"M18.56 5.44l.94 2.06.94-2.06 2.06-.94-2.06-.94-.94-2.06-.94 2.06-2.06.94zm-11 1L8.5 8.5l.94-2.06 2.06-.94-2.06-.94L8.5 2.5l-.94 2.06-2.06.94zm10 10l.94 2.06.94-2.06 2.06-.94-2.06-.94-.94-2.06-.94 2.06-2.06.94z\"/><path d=\"M17.41 7.96l-1.37-1.37c-.4-.4-.92-.59-1.43-.59-.52 0-1.04.2-1.43.59L10.3 9.45l-7.72 7.72c-.78.78-.78 2.05 0 2.83L4 21.41c.39.39.9.59 1.41.59.51 0 1.02-.2 1.41-.59l7.78-7.78 2.81-2.81c.8-.78.8-2.07 0-2.86zM5.41 20L4 18.59l7.72-7.72 1.47 1.35L5.41 20z\"/>\n",
              "  </svg>\n",
              "      </button>\n",
              "      \n",
              "  <style>\n",
              "    .colab-df-container {\n",
              "      display:flex;\n",
              "      flex-wrap:wrap;\n",
              "      gap: 12px;\n",
              "    }\n",
              "\n",
              "    .colab-df-convert {\n",
              "      background-color: #E8F0FE;\n",
              "      border: none;\n",
              "      border-radius: 50%;\n",
              "      cursor: pointer;\n",
              "      display: none;\n",
              "      fill: #1967D2;\n",
              "      height: 32px;\n",
              "      padding: 0 0 0 0;\n",
              "      width: 32px;\n",
              "    }\n",
              "\n",
              "    .colab-df-convert:hover {\n",
              "      background-color: #E2EBFA;\n",
              "      box-shadow: 0px 1px 2px rgba(60, 64, 67, 0.3), 0px 1px 3px 1px rgba(60, 64, 67, 0.15);\n",
              "      fill: #174EA6;\n",
              "    }\n",
              "\n",
              "    [theme=dark] .colab-df-convert {\n",
              "      background-color: #3B4455;\n",
              "      fill: #D2E3FC;\n",
              "    }\n",
              "\n",
              "    [theme=dark] .colab-df-convert:hover {\n",
              "      background-color: #434B5C;\n",
              "      box-shadow: 0px 1px 3px 1px rgba(0, 0, 0, 0.15);\n",
              "      filter: drop-shadow(0px 1px 2px rgba(0, 0, 0, 0.3));\n",
              "      fill: #FFFFFF;\n",
              "    }\n",
              "  </style>\n",
              "\n",
              "      <script>\n",
              "        const buttonEl =\n",
              "          document.querySelector('#df-274f21fc-6c9a-4301-b6cb-21e3ec200266 button.colab-df-convert');\n",
              "        buttonEl.style.display =\n",
              "          google.colab.kernel.accessAllowed ? 'block' : 'none';\n",
              "\n",
              "        async function convertToInteractive(key) {\n",
              "          const element = document.querySelector('#df-274f21fc-6c9a-4301-b6cb-21e3ec200266');\n",
              "          const dataTable =\n",
              "            await google.colab.kernel.invokeFunction('convertToInteractive',\n",
              "                                                     [key], {});\n",
              "          if (!dataTable) return;\n",
              "\n",
              "          const docLinkHtml = 'Like what you see? Visit the ' +\n",
              "            '<a target=\"_blank\" href=https://colab.research.google.com/notebooks/data_table.ipynb>data table notebook</a>'\n",
              "            + ' to learn more about interactive tables.';\n",
              "          element.innerHTML = '';\n",
              "          dataTable['output_type'] = 'display_data';\n",
              "          await google.colab.output.renderOutput(dataTable, element);\n",
              "          const docLink = document.createElement('div');\n",
              "          docLink.innerHTML = docLinkHtml;\n",
              "          element.appendChild(docLink);\n",
              "        }\n",
              "      </script>\n",
              "    </div>\n",
              "  </div>\n",
              "  "
            ]
          },
          "metadata": {},
          "execution_count": 4
        }
      ]
    },
    {
      "cell_type": "markdown",
      "source": [
        "# **Data Analytics on Annual Salary**\n",
        "\n",
        "\n",
        "\n",
        "*   Demonstrate customers' annual salaries to their age, gender, balance, monthly expense and monthly income using scatter plots \n",
        "*   Develop a regression model to predict the annual salary for each customer\n",
        "*   Build a decision-tree based model to predict annual salary\n",
        "\n"
      ],
      "metadata": {
        "id": "zo_jQq6vXk2N"
      }
    },
    {
      "cell_type": "code",
      "source": [
        "annual_salary = data[data['txn_description'] == ('PAY/SALARY')].groupby(['customer_id','age','gender'])['amount'].sum()*4\n",
        "annual_salary = annual_salary.reset_index(name='salary')\n",
        "annual_salary"
      ],
      "metadata": {
        "colab": {
          "base_uri": "https://localhost:8080/",
          "height": 424
        },
        "id": "ulbL_-JGXeCI",
        "outputId": "12f30785-340e-4dde-a4e9-f34c36581de4"
      },
      "execution_count": 210,
      "outputs": [
        {
          "output_type": "execute_result",
          "data": {
            "text/plain": [
              "       customer_id  age gender     salary\n",
              "0   CUS-1005756958   53      F   50464.44\n",
              "1   CUS-1117979751   21      M  100202.20\n",
              "2   CUS-1140341822   28      M   45996.24\n",
              "3   CUS-1147642491   34      F   88992.28\n",
              "4   CUS-1196156254   34      F  109304.44\n",
              "..             ...  ...    ...        ...\n",
              "95    CUS-72755508   35      F   34815.36\n",
              "96   CUS-809013380   21      F   53927.64\n",
              "97   CUS-860700529   30      M   43406.88\n",
              "98   CUS-880898248   26      M   34415.52\n",
              "99   CUS-883482547   19      F  111368.88\n",
              "\n",
              "[100 rows x 4 columns]"
            ],
            "text/html": [
              "\n",
              "  <div id=\"df-5993ed3d-da25-443b-bf23-d50df13ee5f1\">\n",
              "    <div class=\"colab-df-container\">\n",
              "      <div>\n",
              "<style scoped>\n",
              "    .dataframe tbody tr th:only-of-type {\n",
              "        vertical-align: middle;\n",
              "    }\n",
              "\n",
              "    .dataframe tbody tr th {\n",
              "        vertical-align: top;\n",
              "    }\n",
              "\n",
              "    .dataframe thead th {\n",
              "        text-align: right;\n",
              "    }\n",
              "</style>\n",
              "<table border=\"1\" class=\"dataframe\">\n",
              "  <thead>\n",
              "    <tr style=\"text-align: right;\">\n",
              "      <th></th>\n",
              "      <th>customer_id</th>\n",
              "      <th>age</th>\n",
              "      <th>gender</th>\n",
              "      <th>salary</th>\n",
              "    </tr>\n",
              "  </thead>\n",
              "  <tbody>\n",
              "    <tr>\n",
              "      <th>0</th>\n",
              "      <td>CUS-1005756958</td>\n",
              "      <td>53</td>\n",
              "      <td>F</td>\n",
              "      <td>50464.44</td>\n",
              "    </tr>\n",
              "    <tr>\n",
              "      <th>1</th>\n",
              "      <td>CUS-1117979751</td>\n",
              "      <td>21</td>\n",
              "      <td>M</td>\n",
              "      <td>100202.20</td>\n",
              "    </tr>\n",
              "    <tr>\n",
              "      <th>2</th>\n",
              "      <td>CUS-1140341822</td>\n",
              "      <td>28</td>\n",
              "      <td>M</td>\n",
              "      <td>45996.24</td>\n",
              "    </tr>\n",
              "    <tr>\n",
              "      <th>3</th>\n",
              "      <td>CUS-1147642491</td>\n",
              "      <td>34</td>\n",
              "      <td>F</td>\n",
              "      <td>88992.28</td>\n",
              "    </tr>\n",
              "    <tr>\n",
              "      <th>4</th>\n",
              "      <td>CUS-1196156254</td>\n",
              "      <td>34</td>\n",
              "      <td>F</td>\n",
              "      <td>109304.44</td>\n",
              "    </tr>\n",
              "    <tr>\n",
              "      <th>...</th>\n",
              "      <td>...</td>\n",
              "      <td>...</td>\n",
              "      <td>...</td>\n",
              "      <td>...</td>\n",
              "    </tr>\n",
              "    <tr>\n",
              "      <th>95</th>\n",
              "      <td>CUS-72755508</td>\n",
              "      <td>35</td>\n",
              "      <td>F</td>\n",
              "      <td>34815.36</td>\n",
              "    </tr>\n",
              "    <tr>\n",
              "      <th>96</th>\n",
              "      <td>CUS-809013380</td>\n",
              "      <td>21</td>\n",
              "      <td>F</td>\n",
              "      <td>53927.64</td>\n",
              "    </tr>\n",
              "    <tr>\n",
              "      <th>97</th>\n",
              "      <td>CUS-860700529</td>\n",
              "      <td>30</td>\n",
              "      <td>M</td>\n",
              "      <td>43406.88</td>\n",
              "    </tr>\n",
              "    <tr>\n",
              "      <th>98</th>\n",
              "      <td>CUS-880898248</td>\n",
              "      <td>26</td>\n",
              "      <td>M</td>\n",
              "      <td>34415.52</td>\n",
              "    </tr>\n",
              "    <tr>\n",
              "      <th>99</th>\n",
              "      <td>CUS-883482547</td>\n",
              "      <td>19</td>\n",
              "      <td>F</td>\n",
              "      <td>111368.88</td>\n",
              "    </tr>\n",
              "  </tbody>\n",
              "</table>\n",
              "<p>100 rows × 4 columns</p>\n",
              "</div>\n",
              "      <button class=\"colab-df-convert\" onclick=\"convertToInteractive('df-5993ed3d-da25-443b-bf23-d50df13ee5f1')\"\n",
              "              title=\"Convert this dataframe to an interactive table.\"\n",
              "              style=\"display:none;\">\n",
              "        \n",
              "  <svg xmlns=\"http://www.w3.org/2000/svg\" height=\"24px\"viewBox=\"0 0 24 24\"\n",
              "       width=\"24px\">\n",
              "    <path d=\"M0 0h24v24H0V0z\" fill=\"none\"/>\n",
              "    <path d=\"M18.56 5.44l.94 2.06.94-2.06 2.06-.94-2.06-.94-.94-2.06-.94 2.06-2.06.94zm-11 1L8.5 8.5l.94-2.06 2.06-.94-2.06-.94L8.5 2.5l-.94 2.06-2.06.94zm10 10l.94 2.06.94-2.06 2.06-.94-2.06-.94-.94-2.06-.94 2.06-2.06.94z\"/><path d=\"M17.41 7.96l-1.37-1.37c-.4-.4-.92-.59-1.43-.59-.52 0-1.04.2-1.43.59L10.3 9.45l-7.72 7.72c-.78.78-.78 2.05 0 2.83L4 21.41c.39.39.9.59 1.41.59.51 0 1.02-.2 1.41-.59l7.78-7.78 2.81-2.81c.8-.78.8-2.07 0-2.86zM5.41 20L4 18.59l7.72-7.72 1.47 1.35L5.41 20z\"/>\n",
              "  </svg>\n",
              "      </button>\n",
              "      \n",
              "  <style>\n",
              "    .colab-df-container {\n",
              "      display:flex;\n",
              "      flex-wrap:wrap;\n",
              "      gap: 12px;\n",
              "    }\n",
              "\n",
              "    .colab-df-convert {\n",
              "      background-color: #E8F0FE;\n",
              "      border: none;\n",
              "      border-radius: 50%;\n",
              "      cursor: pointer;\n",
              "      display: none;\n",
              "      fill: #1967D2;\n",
              "      height: 32px;\n",
              "      padding: 0 0 0 0;\n",
              "      width: 32px;\n",
              "    }\n",
              "\n",
              "    .colab-df-convert:hover {\n",
              "      background-color: #E2EBFA;\n",
              "      box-shadow: 0px 1px 2px rgba(60, 64, 67, 0.3), 0px 1px 3px 1px rgba(60, 64, 67, 0.15);\n",
              "      fill: #174EA6;\n",
              "    }\n",
              "\n",
              "    [theme=dark] .colab-df-convert {\n",
              "      background-color: #3B4455;\n",
              "      fill: #D2E3FC;\n",
              "    }\n",
              "\n",
              "    [theme=dark] .colab-df-convert:hover {\n",
              "      background-color: #434B5C;\n",
              "      box-shadow: 0px 1px 3px 1px rgba(0, 0, 0, 0.15);\n",
              "      filter: drop-shadow(0px 1px 2px rgba(0, 0, 0, 0.3));\n",
              "      fill: #FFFFFF;\n",
              "    }\n",
              "  </style>\n",
              "\n",
              "      <script>\n",
              "        const buttonEl =\n",
              "          document.querySelector('#df-5993ed3d-da25-443b-bf23-d50df13ee5f1 button.colab-df-convert');\n",
              "        buttonEl.style.display =\n",
              "          google.colab.kernel.accessAllowed ? 'block' : 'none';\n",
              "\n",
              "        async function convertToInteractive(key) {\n",
              "          const element = document.querySelector('#df-5993ed3d-da25-443b-bf23-d50df13ee5f1');\n",
              "          const dataTable =\n",
              "            await google.colab.kernel.invokeFunction('convertToInteractive',\n",
              "                                                     [key], {});\n",
              "          if (!dataTable) return;\n",
              "\n",
              "          const docLinkHtml = 'Like what you see? Visit the ' +\n",
              "            '<a target=\"_blank\" href=https://colab.research.google.com/notebooks/data_table.ipynb>data table notebook</a>'\n",
              "            + ' to learn more about interactive tables.';\n",
              "          element.innerHTML = '';\n",
              "          dataTable['output_type'] = 'display_data';\n",
              "          await google.colab.output.renderOutput(dataTable, element);\n",
              "          const docLink = document.createElement('div');\n",
              "          docLink.innerHTML = docLinkHtml;\n",
              "          element.appendChild(docLink);\n",
              "        }\n",
              "      </script>\n",
              "    </div>\n",
              "  </div>\n",
              "  "
            ]
          },
          "metadata": {},
          "execution_count": 210
        }
      ]
    },
    {
      "cell_type": "code",
      "source": [
        "data.groupby('customer_id')['amount'].max()"
      ],
      "metadata": {
        "colab": {
          "base_uri": "https://localhost:8080/"
        },
        "id": "9Jz5DNJMfCgS",
        "outputId": "9af43f05-1341-469b-e276-7ab2e3fde9c7"
      },
      "execution_count": 275,
      "outputs": [
        {
          "output_type": "execute_result",
          "data": {
            "text/plain": [
              "customer_id\n",
              "CUS-1005756958     970.47\n",
              "CUS-1117979751    3578.65\n",
              "CUS-1140341822    1916.51\n",
              "CUS-1147642491    1711.39\n",
              "CUS-1196156254    3903.73\n",
              "                   ...   \n",
              "CUS-72755508      1180.00\n",
              "CUS-809013380     1383.00\n",
              "CUS-860700529     1808.62\n",
              "CUS-880898248     1433.98\n",
              "CUS-883482547     3977.46\n",
              "Name: amount, Length: 100, dtype: float64"
            ]
          },
          "metadata": {},
          "execution_count": 275
        }
      ]
    },
    {
      "cell_type": "code",
      "source": [
        "data.groupby('customer_id')['amount'].mean()"
      ],
      "metadata": {
        "colab": {
          "base_uri": "https://localhost:8080/"
        },
        "id": "k-tNOsnIfhnH",
        "outputId": "e2bd9a86-dd7d-43bc-9bc9-dc4be55aa0c5"
      },
      "execution_count": 277,
      "outputs": [
        {
          "output_type": "execute_result",
          "data": {
            "text/plain": [
              "customer_id\n",
              "CUS-1005756958    222.862603\n",
              "CUS-1117979751    339.843700\n",
              "CUS-1140341822    212.632500\n",
              "CUS-1147642491    245.600169\n",
              "CUS-1196156254    147.145796\n",
              "                     ...    \n",
              "CUS-72755508      197.213276\n",
              "CUS-809013380     151.694274\n",
              "CUS-860700529      77.681888\n",
              "CUS-880898248     146.954487\n",
              "CUS-883482547     205.839382\n",
              "Name: amount, Length: 100, dtype: float64"
            ]
          },
          "metadata": {},
          "execution_count": 277
        }
      ]
    },
    {
      "cell_type": "code",
      "source": [
        "data.groupby('customer_id')['amount'].count()"
      ],
      "metadata": {
        "colab": {
          "base_uri": "https://localhost:8080/"
        },
        "id": "I_pkMPzZhOCM",
        "outputId": "4792ad3c-e1b8-475e-9bde-57585069f103"
      },
      "execution_count": 303,
      "outputs": [
        {
          "output_type": "execute_result",
          "data": {
            "text/plain": [
              "customer_id\n",
              "CUS-1005756958     73\n",
              "CUS-1117979751    100\n",
              "CUS-1140341822     80\n",
              "CUS-1147642491    118\n",
              "CUS-1196156254    245\n",
              "                 ... \n",
              "CUS-72755508       58\n",
              "CUS-809013380     124\n",
              "CUS-860700529     233\n",
              "CUS-880898248      78\n",
              "CUS-883482547     178\n",
              "Name: amount, Length: 100, dtype: int64"
            ]
          },
          "metadata": {},
          "execution_count": 303
        }
      ]
    },
    {
      "cell_type": "code",
      "source": [
        "data[data['txn_description'] == ('POS' or 'SALES-POS')].groupby('customer_id')['amount'].count()"
      ],
      "metadata": {
        "colab": {
          "base_uri": "https://localhost:8080/"
        },
        "id": "OMefvDJViJIb",
        "outputId": "e8d7d4cc-cee5-4666-b36e-06e657b46039"
      },
      "execution_count": 323,
      "outputs": [
        {
          "output_type": "execute_result",
          "data": {
            "text/plain": [
              "customer_id\n",
              "CUS-1005756958    26\n",
              "CUS-1117979751    26\n",
              "CUS-1140341822    39\n",
              "CUS-1147642491    38\n",
              "CUS-1196156254    74\n",
              "                  ..\n",
              "CUS-72755508      14\n",
              "CUS-809013380     51\n",
              "CUS-860700529     97\n",
              "CUS-880898248     21\n",
              "CUS-883482547     51\n",
              "Name: amount, Length: 100, dtype: int64"
            ]
          },
          "metadata": {},
          "execution_count": 323
        }
      ]
    },
    {
      "cell_type": "code",
      "source": [
        "# sum up each customer's debit and credit during three month from 01/08/2018 to 31/10/2018\n",
        "total_debit = data[data['movement'] == 'debit'].groupby('customer_id')['amount'].sum()/3\n",
        "total_debit = total_debit.reset_index(name='expense')\n",
        "total_credit = data[data['movement'] == 'credit'].groupby('customer_id')['amount'].sum()/3\n",
        "total_credit = total_credit.reset_index(name='income')\n",
        "average_banlance = data.groupby('customer_id')[\"balance\"].mean().reset_index(name='balance')\n",
        "# combine two dataframes as one to plot\n",
        "total_credit = pd.merge(total_credit, total_debit, on='customer_id', how='left')\n",
        "total_credit = pd.merge(total_credit, average_banlance, on='customer_id', how='left')\n",
        "\n",
        "total_credit = pd.merge(total_credit, data.groupby('customer_id')['amount'].max().reset_index(name='max_txn'), on ='customer_id', how='left')\n",
        "total_credit = pd.merge(total_credit, data.groupby('customer_id')['amount'].mean().reset_index(name='mean_txn'), on ='customer_id', how='left')\n",
        "total_credit = pd.merge(total_credit, data.groupby('customer_id')['amount'].count().reset_index(name='txn_times'), on ='customer_id', how='left')\n",
        "total_credit = pd.merge(total_credit, data[data['txn_description'] == ('POS' or 'SALES-POS')].groupby('customer_id')['amount'].count().reset_index(name='purchase_times'), on ='customer_id', how='left')\n",
        "\n",
        "total_credit = pd.merge(total_credit, annual_salary, on ='customer_id', how='left')\n",
        "\n",
        "total_credit.loc[total_credit[\"gender\"] == \"M\", \"gender\"] = float(1.0)\n",
        "total_credit.loc[total_credit[\"gender\"] == \"F\", \"gender\"] = float(0.0)\n",
        "total_credit"
      ],
      "metadata": {
        "colab": {
          "base_uri": "https://localhost:8080/",
          "height": 424
        },
        "id": "FHkJFUB3qSCt",
        "outputId": "32e5a81c-a577-496d-e5c1-8dd4e8e66c01"
      },
      "execution_count": 325,
      "outputs": [
        {
          "output_type": "execute_result",
          "data": {
            "text/plain": [
              "       customer_id       income      expense       balance  max_txn  \\\n",
              "0   CUS-1005756958  4205.370000  1217.620000   2275.852055   970.47   \n",
              "1   CUS-1117979751  8350.183333  2977.940000   9829.929000  3578.65   \n",
              "2   CUS-1140341822  3833.020000  1837.180000   5699.212250  1916.51   \n",
              "3   CUS-1147642491  7416.023333  2244.250000   9032.841186  1711.39   \n",
              "4   CUS-1196156254  9108.703333  2908.203333  22272.433755  3903.73   \n",
              "..             ...          ...          ...           ...      ...   \n",
              "95    CUS-72755508  2901.280000   911.510000   4497.557069  1180.00   \n",
              "96   CUS-809013380  4493.970000  1776.060000   3756.902903  1383.00   \n",
              "97   CUS-860700529  3617.240000  2416.053333   3462.276009  1808.62   \n",
              "98   CUS-880898248  2867.960000   952.856667   8528.830385  1433.98   \n",
              "99   CUS-883482547  9280.740000  2932.396667   9877.452697  3977.46   \n",
              "\n",
              "      mean_txn  txn_times  purchase_times  age gender     salary  \n",
              "0   222.862603         73              26   53    0.0   50464.44  \n",
              "1   339.843700        100              26   21    1.0  100202.20  \n",
              "2   212.632500         80              39   28    1.0   45996.24  \n",
              "3   245.600169        118              38   34    0.0   88992.28  \n",
              "4   147.145796        245              74   34    0.0  109304.44  \n",
              "..         ...        ...             ...  ...    ...        ...  \n",
              "95  197.213276         58              14   35    0.0   34815.36  \n",
              "96  151.694274        124              51   21    0.0   53927.64  \n",
              "97   77.681888        233              97   30    1.0   43406.88  \n",
              "98  146.954487         78              21   26    1.0   34415.52  \n",
              "99  205.839382        178              51   19    0.0  111368.88  \n",
              "\n",
              "[100 rows x 11 columns]"
            ],
            "text/html": [
              "\n",
              "  <div id=\"df-a792463c-7534-4b39-837d-304755d5dc43\">\n",
              "    <div class=\"colab-df-container\">\n",
              "      <div>\n",
              "<style scoped>\n",
              "    .dataframe tbody tr th:only-of-type {\n",
              "        vertical-align: middle;\n",
              "    }\n",
              "\n",
              "    .dataframe tbody tr th {\n",
              "        vertical-align: top;\n",
              "    }\n",
              "\n",
              "    .dataframe thead th {\n",
              "        text-align: right;\n",
              "    }\n",
              "</style>\n",
              "<table border=\"1\" class=\"dataframe\">\n",
              "  <thead>\n",
              "    <tr style=\"text-align: right;\">\n",
              "      <th></th>\n",
              "      <th>customer_id</th>\n",
              "      <th>income</th>\n",
              "      <th>expense</th>\n",
              "      <th>balance</th>\n",
              "      <th>max_txn</th>\n",
              "      <th>mean_txn</th>\n",
              "      <th>txn_times</th>\n",
              "      <th>purchase_times</th>\n",
              "      <th>age</th>\n",
              "      <th>gender</th>\n",
              "      <th>salary</th>\n",
              "    </tr>\n",
              "  </thead>\n",
              "  <tbody>\n",
              "    <tr>\n",
              "      <th>0</th>\n",
              "      <td>CUS-1005756958</td>\n",
              "      <td>4205.370000</td>\n",
              "      <td>1217.620000</td>\n",
              "      <td>2275.852055</td>\n",
              "      <td>970.47</td>\n",
              "      <td>222.862603</td>\n",
              "      <td>73</td>\n",
              "      <td>26</td>\n",
              "      <td>53</td>\n",
              "      <td>0.0</td>\n",
              "      <td>50464.44</td>\n",
              "    </tr>\n",
              "    <tr>\n",
              "      <th>1</th>\n",
              "      <td>CUS-1117979751</td>\n",
              "      <td>8350.183333</td>\n",
              "      <td>2977.940000</td>\n",
              "      <td>9829.929000</td>\n",
              "      <td>3578.65</td>\n",
              "      <td>339.843700</td>\n",
              "      <td>100</td>\n",
              "      <td>26</td>\n",
              "      <td>21</td>\n",
              "      <td>1.0</td>\n",
              "      <td>100202.20</td>\n",
              "    </tr>\n",
              "    <tr>\n",
              "      <th>2</th>\n",
              "      <td>CUS-1140341822</td>\n",
              "      <td>3833.020000</td>\n",
              "      <td>1837.180000</td>\n",
              "      <td>5699.212250</td>\n",
              "      <td>1916.51</td>\n",
              "      <td>212.632500</td>\n",
              "      <td>80</td>\n",
              "      <td>39</td>\n",
              "      <td>28</td>\n",
              "      <td>1.0</td>\n",
              "      <td>45996.24</td>\n",
              "    </tr>\n",
              "    <tr>\n",
              "      <th>3</th>\n",
              "      <td>CUS-1147642491</td>\n",
              "      <td>7416.023333</td>\n",
              "      <td>2244.250000</td>\n",
              "      <td>9032.841186</td>\n",
              "      <td>1711.39</td>\n",
              "      <td>245.600169</td>\n",
              "      <td>118</td>\n",
              "      <td>38</td>\n",
              "      <td>34</td>\n",
              "      <td>0.0</td>\n",
              "      <td>88992.28</td>\n",
              "    </tr>\n",
              "    <tr>\n",
              "      <th>4</th>\n",
              "      <td>CUS-1196156254</td>\n",
              "      <td>9108.703333</td>\n",
              "      <td>2908.203333</td>\n",
              "      <td>22272.433755</td>\n",
              "      <td>3903.73</td>\n",
              "      <td>147.145796</td>\n",
              "      <td>245</td>\n",
              "      <td>74</td>\n",
              "      <td>34</td>\n",
              "      <td>0.0</td>\n",
              "      <td>109304.44</td>\n",
              "    </tr>\n",
              "    <tr>\n",
              "      <th>...</th>\n",
              "      <td>...</td>\n",
              "      <td>...</td>\n",
              "      <td>...</td>\n",
              "      <td>...</td>\n",
              "      <td>...</td>\n",
              "      <td>...</td>\n",
              "      <td>...</td>\n",
              "      <td>...</td>\n",
              "      <td>...</td>\n",
              "      <td>...</td>\n",
              "      <td>...</td>\n",
              "    </tr>\n",
              "    <tr>\n",
              "      <th>95</th>\n",
              "      <td>CUS-72755508</td>\n",
              "      <td>2901.280000</td>\n",
              "      <td>911.510000</td>\n",
              "      <td>4497.557069</td>\n",
              "      <td>1180.00</td>\n",
              "      <td>197.213276</td>\n",
              "      <td>58</td>\n",
              "      <td>14</td>\n",
              "      <td>35</td>\n",
              "      <td>0.0</td>\n",
              "      <td>34815.36</td>\n",
              "    </tr>\n",
              "    <tr>\n",
              "      <th>96</th>\n",
              "      <td>CUS-809013380</td>\n",
              "      <td>4493.970000</td>\n",
              "      <td>1776.060000</td>\n",
              "      <td>3756.902903</td>\n",
              "      <td>1383.00</td>\n",
              "      <td>151.694274</td>\n",
              "      <td>124</td>\n",
              "      <td>51</td>\n",
              "      <td>21</td>\n",
              "      <td>0.0</td>\n",
              "      <td>53927.64</td>\n",
              "    </tr>\n",
              "    <tr>\n",
              "      <th>97</th>\n",
              "      <td>CUS-860700529</td>\n",
              "      <td>3617.240000</td>\n",
              "      <td>2416.053333</td>\n",
              "      <td>3462.276009</td>\n",
              "      <td>1808.62</td>\n",
              "      <td>77.681888</td>\n",
              "      <td>233</td>\n",
              "      <td>97</td>\n",
              "      <td>30</td>\n",
              "      <td>1.0</td>\n",
              "      <td>43406.88</td>\n",
              "    </tr>\n",
              "    <tr>\n",
              "      <th>98</th>\n",
              "      <td>CUS-880898248</td>\n",
              "      <td>2867.960000</td>\n",
              "      <td>952.856667</td>\n",
              "      <td>8528.830385</td>\n",
              "      <td>1433.98</td>\n",
              "      <td>146.954487</td>\n",
              "      <td>78</td>\n",
              "      <td>21</td>\n",
              "      <td>26</td>\n",
              "      <td>1.0</td>\n",
              "      <td>34415.52</td>\n",
              "    </tr>\n",
              "    <tr>\n",
              "      <th>99</th>\n",
              "      <td>CUS-883482547</td>\n",
              "      <td>9280.740000</td>\n",
              "      <td>2932.396667</td>\n",
              "      <td>9877.452697</td>\n",
              "      <td>3977.46</td>\n",
              "      <td>205.839382</td>\n",
              "      <td>178</td>\n",
              "      <td>51</td>\n",
              "      <td>19</td>\n",
              "      <td>0.0</td>\n",
              "      <td>111368.88</td>\n",
              "    </tr>\n",
              "  </tbody>\n",
              "</table>\n",
              "<p>100 rows × 11 columns</p>\n",
              "</div>\n",
              "      <button class=\"colab-df-convert\" onclick=\"convertToInteractive('df-a792463c-7534-4b39-837d-304755d5dc43')\"\n",
              "              title=\"Convert this dataframe to an interactive table.\"\n",
              "              style=\"display:none;\">\n",
              "        \n",
              "  <svg xmlns=\"http://www.w3.org/2000/svg\" height=\"24px\"viewBox=\"0 0 24 24\"\n",
              "       width=\"24px\">\n",
              "    <path d=\"M0 0h24v24H0V0z\" fill=\"none\"/>\n",
              "    <path d=\"M18.56 5.44l.94 2.06.94-2.06 2.06-.94-2.06-.94-.94-2.06-.94 2.06-2.06.94zm-11 1L8.5 8.5l.94-2.06 2.06-.94-2.06-.94L8.5 2.5l-.94 2.06-2.06.94zm10 10l.94 2.06.94-2.06 2.06-.94-2.06-.94-.94-2.06-.94 2.06-2.06.94z\"/><path d=\"M17.41 7.96l-1.37-1.37c-.4-.4-.92-.59-1.43-.59-.52 0-1.04.2-1.43.59L10.3 9.45l-7.72 7.72c-.78.78-.78 2.05 0 2.83L4 21.41c.39.39.9.59 1.41.59.51 0 1.02-.2 1.41-.59l7.78-7.78 2.81-2.81c.8-.78.8-2.07 0-2.86zM5.41 20L4 18.59l7.72-7.72 1.47 1.35L5.41 20z\"/>\n",
              "  </svg>\n",
              "      </button>\n",
              "      \n",
              "  <style>\n",
              "    .colab-df-container {\n",
              "      display:flex;\n",
              "      flex-wrap:wrap;\n",
              "      gap: 12px;\n",
              "    }\n",
              "\n",
              "    .colab-df-convert {\n",
              "      background-color: #E8F0FE;\n",
              "      border: none;\n",
              "      border-radius: 50%;\n",
              "      cursor: pointer;\n",
              "      display: none;\n",
              "      fill: #1967D2;\n",
              "      height: 32px;\n",
              "      padding: 0 0 0 0;\n",
              "      width: 32px;\n",
              "    }\n",
              "\n",
              "    .colab-df-convert:hover {\n",
              "      background-color: #E2EBFA;\n",
              "      box-shadow: 0px 1px 2px rgba(60, 64, 67, 0.3), 0px 1px 3px 1px rgba(60, 64, 67, 0.15);\n",
              "      fill: #174EA6;\n",
              "    }\n",
              "\n",
              "    [theme=dark] .colab-df-convert {\n",
              "      background-color: #3B4455;\n",
              "      fill: #D2E3FC;\n",
              "    }\n",
              "\n",
              "    [theme=dark] .colab-df-convert:hover {\n",
              "      background-color: #434B5C;\n",
              "      box-shadow: 0px 1px 3px 1px rgba(0, 0, 0, 0.15);\n",
              "      filter: drop-shadow(0px 1px 2px rgba(0, 0, 0, 0.3));\n",
              "      fill: #FFFFFF;\n",
              "    }\n",
              "  </style>\n",
              "\n",
              "      <script>\n",
              "        const buttonEl =\n",
              "          document.querySelector('#df-a792463c-7534-4b39-837d-304755d5dc43 button.colab-df-convert');\n",
              "        buttonEl.style.display =\n",
              "          google.colab.kernel.accessAllowed ? 'block' : 'none';\n",
              "\n",
              "        async function convertToInteractive(key) {\n",
              "          const element = document.querySelector('#df-a792463c-7534-4b39-837d-304755d5dc43');\n",
              "          const dataTable =\n",
              "            await google.colab.kernel.invokeFunction('convertToInteractive',\n",
              "                                                     [key], {});\n",
              "          if (!dataTable) return;\n",
              "\n",
              "          const docLinkHtml = 'Like what you see? Visit the ' +\n",
              "            '<a target=\"_blank\" href=https://colab.research.google.com/notebooks/data_table.ipynb>data table notebook</a>'\n",
              "            + ' to learn more about interactive tables.';\n",
              "          element.innerHTML = '';\n",
              "          dataTable['output_type'] = 'display_data';\n",
              "          await google.colab.output.renderOutput(dataTable, element);\n",
              "          const docLink = document.createElement('div');\n",
              "          docLink.innerHTML = docLinkHtml;\n",
              "          element.appendChild(docLink);\n",
              "        }\n",
              "      </script>\n",
              "    </div>\n",
              "  </div>\n",
              "  "
            ]
          },
          "metadata": {},
          "execution_count": 325
        }
      ]
    },
    {
      "cell_type": "code",
      "source": [
        "total_credit['salary'].describe()"
      ],
      "metadata": {
        "colab": {
          "base_uri": "https://localhost:8080/"
        },
        "id": "dlxOd-NEE84d",
        "outputId": "d9fbd55e-1109-47b0-aefa-22ecaaafaee3"
      },
      "execution_count": 280,
      "outputs": [
        {
          "output_type": "execute_result",
          "data": {
            "text/plain": [
              "count       100.000000\n",
              "mean      67063.074000\n",
              "std       26966.174864\n",
              "min       28623.840000\n",
              "25%       46365.330000\n",
              "50%       59253.940000\n",
              "75%       85330.060000\n",
              "max      141375.680000\n",
              "Name: salary, dtype: float64"
            ]
          },
          "metadata": {},
          "execution_count": 280
        }
      ]
    },
    {
      "cell_type": "code",
      "source": [
        "ax = total_credit.plot.scatter(x=\"income\", y=\"salary\", )"
      ],
      "metadata": {
        "colab": {
          "base_uri": "https://localhost:8080/",
          "height": 279
        },
        "id": "sGLULGuQFPoK",
        "outputId": "c1ef92d1-6cff-4f9e-d9fe-7b4f2319bf74"
      },
      "execution_count": 281,
      "outputs": [
        {
          "output_type": "display_data",
          "data": {
            "text/plain": [
              "<Figure size 432x288 with 1 Axes>"
            ],
            "image/png": "[encoded data removed]"
          },
          "metadata": {
            "needs_background": "light"
          }
        }
      ]
    },
    {
      "cell_type": "code",
      "source": [
        "ax = total_credit.plot.scatter(x=\"expense\", y=\"salary\", )"
      ],
      "metadata": {
        "colab": {
          "base_uri": "https://localhost:8080/",
          "height": 279
        },
        "id": "QMyUfKvsHq3v",
        "outputId": "308f93d8-c76f-4aab-b257-300adc9b6740"
      },
      "execution_count": 282,
      "outputs": [
        {
          "output_type": "display_data",
          "data": {
            "text/plain": [
              "<Figure size 432x288 with 1 Axes>"
            ],
            "image/png": "[encoded data removed]"
          },
          "metadata": {
            "needs_background": "light"
          }
        }
      ]
    },
    {
      "cell_type": "code",
      "source": [
        "ax = total_credit.plot.scatter(x=\"balance\", y=\"salary\", )"
      ],
      "metadata": {
        "colab": {
          "base_uri": "https://localhost:8080/",
          "height": 279
        },
        "id": "hFcfOYg8HxNK",
        "outputId": "d6dcc7ee-3094-41af-b503-34c7ea86be42"
      },
      "execution_count": 193,
      "outputs": [
        {
          "output_type": "display_data",
          "data": {
            "text/plain": [
              "<Figure size 432x288 with 1 Axes>"
            ],
            "image/png": "[encoded data removed]"
          },
          "metadata": {
            "needs_background": "light"
          }
        }
      ]
    },
    {
      "cell_type": "code",
      "source": [
        "ax = total_credit.plot.scatter(x=\"age\", y=\"salary\", )"
      ],
      "metadata": {
        "colab": {
          "base_uri": "https://localhost:8080/",
          "height": 279
        },
        "id": "kB405mASH3mw",
        "outputId": "063d2959-6ed9-44ed-e354-872a61a92e8b"
      },
      "execution_count": 194,
      "outputs": [
        {
          "output_type": "display_data",
          "data": {
            "text/plain": [
              "<Figure size 432x288 with 1 Axes>"
            ],
            "image/png": "[encoded data removed]"
          },
          "metadata": {
            "needs_background": "light"
          }
        }
      ]
    },
    {
      "cell_type": "code",
      "source": [
        "ax = total_credit.plot.scatter(x=\"max_txn\", y=\"salary\", )"
      ],
      "metadata": {
        "colab": {
          "base_uri": "https://localhost:8080/",
          "height": 280
        },
        "id": "JdQRLkKFglBE",
        "outputId": "bcf313e1-1432-4ee4-ca0b-caade61604fa"
      },
      "execution_count": 284,
      "outputs": [
        {
          "output_type": "display_data",
          "data": {
            "text/plain": [
              "<Figure size 432x288 with 1 Axes>"
            ],
            "image/png": "[encoded data removed]"
          },
          "metadata": {
            "needs_background": "light"
          }
        }
      ]
    },
    {
      "cell_type": "code",
      "source": [
        "ax = total_credit.plot.scatter(x=\"mean_txn\", y=\"salary\", )"
      ],
      "metadata": {
        "colab": {
          "base_uri": "https://localhost:8080/",
          "height": 280
        },
        "id": "g6L9ck-ggtei",
        "outputId": "dba4e567-b24a-4942-8f26-2e65a6035502"
      },
      "execution_count": 285,
      "outputs": [
        {
          "output_type": "display_data",
          "data": {
            "text/plain": [
              "<Figure size 432x288 with 1 Axes>"
            ],
            "image/png": "[encoded data removed]"
          },
          "metadata": {
            "needs_background": "light"
          }
        }
      ]
    },
    {
      "cell_type": "code",
      "source": [
        "ax = total_credit.plot.scatter(x=\"txn_times\", y=\"salary\", )"
      ],
      "metadata": {
        "colab": {
          "base_uri": "https://localhost:8080/",
          "height": 280
        },
        "id": "4YCxNVBzhf5K",
        "outputId": "2e5fdd71-19ec-499f-bc7f-e82dfc7d1719"
      },
      "execution_count": 305,
      "outputs": [
        {
          "output_type": "display_data",
          "data": {
            "text/plain": [
              "<Figure size 432x288 with 1 Axes>"
            ],
            "image/png": "[encoded data removed]"
          },
          "metadata": {
            "needs_background": "light"
          }
        }
      ]
    },
    {
      "cell_type": "code",
      "source": [
        "ax = total_credit.plot.scatter(x=\"purchase_times\", y=\"salary\", )"
      ],
      "metadata": {
        "colab": {
          "base_uri": "https://localhost:8080/",
          "height": 280
        },
        "id": "Z47koVMxi9cR",
        "outputId": "bed7c5de-acf0-46a1-a557-8d957d66f10b"
      },
      "execution_count": 326,
      "outputs": [
        {
          "output_type": "display_data",
          "data": {
            "text/plain": [
              "<Figure size 432x288 with 1 Axes>"
            ],
            "image/png": "[encoded data removed]"
          },
          "metadata": {
            "needs_background": "light"
          }
        }
      ]
    },
    {
      "cell_type": "code",
      "source": [
        "ax = total_credit.plot.scatter(x=\"gender\", y=\"salary\", )"
      ],
      "metadata": {
        "colab": {
          "base_uri": "https://localhost:8080/",
          "height": 279
        },
        "id": "TT_G6MD4H-L6",
        "outputId": "6a7c34ed-abf6-4906-d3b7-283a917ae77b"
      },
      "execution_count": 195,
      "outputs": [
        {
          "output_type": "display_data",
          "data": {
            "text/plain": [
              "<Figure size 432x288 with 1 Axes>"
            ],
            "image/png": "[encoded data removed]"
          },
          "metadata": {
            "needs_background": "light"
          }
        }
      ]
    },
    {
      "cell_type": "code",
      "source": [
        "if hasattr(total_credit, 'income'):\n",
        "    total_credit.drop(columns = ['income','gender'], axis = 1, inplace=True)\n",
        "total_credit"
      ],
      "metadata": {
        "colab": {
          "base_uri": "https://localhost:8080/",
          "height": 424
        },
        "id": "kU3cQZtUIzDu",
        "outputId": "c8a3e5e7-b407-403f-96c6-c994cdedad56"
      },
      "execution_count": 327,
      "outputs": [
        {
          "output_type": "execute_result",
          "data": {
            "text/plain": [
              "       customer_id      expense       balance  max_txn    mean_txn  txn_times  \\\n",
              "0   CUS-1005756958  1217.620000   2275.852055   970.47  222.862603         73   \n",
              "1   CUS-1117979751  2977.940000   9829.929000  3578.65  339.843700        100   \n",
              "2   CUS-1140341822  1837.180000   5699.212250  1916.51  212.632500         80   \n",
              "3   CUS-1147642491  2244.250000   9032.841186  1711.39  245.600169        118   \n",
              "4   CUS-1196156254  2908.203333  22272.433755  3903.73  147.145796        245   \n",
              "..             ...          ...           ...      ...         ...        ...   \n",
              "95    CUS-72755508   911.510000   4497.557069  1180.00  197.213276         58   \n",
              "96   CUS-809013380  1776.060000   3756.902903  1383.00  151.694274        124   \n",
              "97   CUS-860700529  2416.053333   3462.276009  1808.62   77.681888        233   \n",
              "98   CUS-880898248   952.856667   8528.830385  1433.98  146.954487         78   \n",
              "99   CUS-883482547  2932.396667   9877.452697  3977.46  205.839382        178   \n",
              "\n",
              "    purchase_times  age     salary  \n",
              "0               26   53   50464.44  \n",
              "1               26   21  100202.20  \n",
              "2               39   28   45996.24  \n",
              "3               38   34   88992.28  \n",
              "4               74   34  109304.44  \n",
              "..             ...  ...        ...  \n",
              "95              14   35   34815.36  \n",
              "96              51   21   53927.64  \n",
              "97              97   30   43406.88  \n",
              "98              21   26   34415.52  \n",
              "99              51   19  111368.88  \n",
              "\n",
              "[100 rows x 9 columns]"
            ],
            "text/html": [
              "\n",
              "  <div id=\"df-ec604a49-6618-4052-8e4a-68c861691492\">\n",
              "    <div class=\"colab-df-container\">\n",
              "      <div>\n",
              "<style scoped>\n",
              "    .dataframe tbody tr th:only-of-type {\n",
              "        vertical-align: middle;\n",
              "    }\n",
              "\n",
              "    .dataframe tbody tr th {\n",
              "        vertical-align: top;\n",
              "    }\n",
              "\n",
              "    .dataframe thead th {\n",
              "        text-align: right;\n",
              "    }\n",
              "</style>\n",
              "<table border=\"1\" class=\"dataframe\">\n",
              "  <thead>\n",
              "    <tr style=\"text-align: right;\">\n",
              "      <th></th>\n",
              "      <th>customer_id</th>\n",
              "      <th>expense</th>\n",
              "      <th>balance</th>\n",
              "      <th>max_txn</th>\n",
              "      <th>mean_txn</th>\n",
              "      <th>txn_times</th>\n",
              "      <th>purchase_times</th>\n",
              "      <th>age</th>\n",
              "      <th>salary</th>\n",
              "    </tr>\n",
              "  </thead>\n",
              "  <tbody>\n",
              "    <tr>\n",
              "      <th>0</th>\n",
              "      <td>CUS-1005756958</td>\n",
              "      <td>1217.620000</td>\n",
              "      <td>2275.852055</td>\n",
              "      <td>970.47</td>\n",
              "      <td>222.862603</td>\n",
              "      <td>73</td>\n",
              "      <td>26</td>\n",
              "      <td>53</td>\n",
              "      <td>50464.44</td>\n",
              "    </tr>\n",
              "    <tr>\n",
              "      <th>1</th>\n",
              "      <td>CUS-1117979751</td>\n",
              "      <td>2977.940000</td>\n",
              "      <td>9829.929000</td>\n",
              "      <td>3578.65</td>\n",
              "      <td>339.843700</td>\n",
              "      <td>100</td>\n",
              "      <td>26</td>\n",
              "      <td>21</td>\n",
              "      <td>100202.20</td>\n",
              "    </tr>\n",
              "    <tr>\n",
              "      <th>2</th>\n",
              "      <td>CUS-1140341822</td>\n",
              "      <td>1837.180000</td>\n",
              "      <td>5699.212250</td>\n",
              "      <td>1916.51</td>\n",
              "      <td>212.632500</td>\n",
              "      <td>80</td>\n",
              "      <td>39</td>\n",
              "      <td>28</td>\n",
              "      <td>45996.24</td>\n",
              "    </tr>\n",
              "    <tr>\n",
              "      <th>3</th>\n",
              "      <td>CUS-1147642491</td>\n",
              "      <td>2244.250000</td>\n",
              "      <td>9032.841186</td>\n",
              "      <td>1711.39</td>\n",
              "      <td>245.600169</td>\n",
              "      <td>118</td>\n",
              "      <td>38</td>\n",
              "      <td>34</td>\n",
              "      <td>88992.28</td>\n",
              "    </tr>\n",
              "    <tr>\n",
              "      <th>4</th>\n",
              "      <td>CUS-1196156254</td>\n",
              "      <td>2908.203333</td>\n",
              "      <td>22272.433755</td>\n",
              "      <td>3903.73</td>\n",
              "      <td>147.145796</td>\n",
              "      <td>245</td>\n",
              "      <td>74</td>\n",
              "      <td>34</td>\n",
              "      <td>109304.44</td>\n",
              "    </tr>\n",
              "    <tr>\n",
              "      <th>...</th>\n",
              "      <td>...</td>\n",
              "      <td>...</td>\n",
              "      <td>...</td>\n",
              "      <td>...</td>\n",
              "      <td>...</td>\n",
              "      <td>...</td>\n",
              "      <td>...</td>\n",
              "      <td>...</td>\n",
              "      <td>...</td>\n",
              "    </tr>\n",
              "    <tr>\n",
              "      <th>95</th>\n",
              "      <td>CUS-72755508</td>\n",
              "      <td>911.510000</td>\n",
              "      <td>4497.557069</td>\n",
              "      <td>1180.00</td>\n",
              "      <td>197.213276</td>\n",
              "      <td>58</td>\n",
              "      <td>14</td>\n",
              "      <td>35</td>\n",
              "      <td>34815.36</td>\n",
              "    </tr>\n",
              "    <tr>\n",
              "      <th>96</th>\n",
              "      <td>CUS-809013380</td>\n",
              "      <td>1776.060000</td>\n",
              "      <td>3756.902903</td>\n",
              "      <td>1383.00</td>\n",
              "      <td>151.694274</td>\n",
              "      <td>124</td>\n",
              "      <td>51</td>\n",
              "      <td>21</td>\n",
              "      <td>53927.64</td>\n",
              "    </tr>\n",
              "    <tr>\n",
              "      <th>97</th>\n",
              "      <td>CUS-860700529</td>\n",
              "      <td>2416.053333</td>\n",
              "      <td>3462.276009</td>\n",
              "      <td>1808.62</td>\n",
              "      <td>77.681888</td>\n",
              "      <td>233</td>\n",
              "      <td>97</td>\n",
              "      <td>30</td>\n",
              "      <td>43406.88</td>\n",
              "    </tr>\n",
              "    <tr>\n",
              "      <th>98</th>\n",
              "      <td>CUS-880898248</td>\n",
              "      <td>952.856667</td>\n",
              "      <td>8528.830385</td>\n",
              "      <td>1433.98</td>\n",
              "      <td>146.954487</td>\n",
              "      <td>78</td>\n",
              "      <td>21</td>\n",
              "      <td>26</td>\n",
              "      <td>34415.52</td>\n",
              "    </tr>\n",
              "    <tr>\n",
              "      <th>99</th>\n",
              "      <td>CUS-883482547</td>\n",
              "      <td>2932.396667</td>\n",
              "      <td>9877.452697</td>\n",
              "      <td>3977.46</td>\n",
              "      <td>205.839382</td>\n",
              "      <td>178</td>\n",
              "      <td>51</td>\n",
              "      <td>19</td>\n",
              "      <td>111368.88</td>\n",
              "    </tr>\n",
              "  </tbody>\n",
              "</table>\n",
              "<p>100 rows × 9 columns</p>\n",
              "</div>\n",
              "      <button class=\"colab-df-convert\" onclick=\"convertToInteractive('df-ec604a49-6618-4052-8e4a-68c861691492')\"\n",
              "              title=\"Convert this dataframe to an interactive table.\"\n",
              "              style=\"display:none;\">\n",
              "        \n",
              "  <svg xmlns=\"http://www.w3.org/2000/svg\" height=\"24px\"viewBox=\"0 0 24 24\"\n",
              "       width=\"24px\">\n",
              "    <path d=\"M0 0h24v24H0V0z\" fill=\"none\"/>\n",
              "    <path d=\"M18.56 5.44l.94 2.06.94-2.06 2.06-.94-2.06-.94-.94-2.06-.94 2.06-2.06.94zm-11 1L8.5 8.5l.94-2.06 2.06-.94-2.06-.94L8.5 2.5l-.94 2.06-2.06.94zm10 10l.94 2.06.94-2.06 2.06-.94-2.06-.94-.94-2.06-.94 2.06-2.06.94z\"/><path d=\"M17.41 7.96l-1.37-1.37c-.4-.4-.92-.59-1.43-.59-.52 0-1.04.2-1.43.59L10.3 9.45l-7.72 7.72c-.78.78-.78 2.05 0 2.83L4 21.41c.39.39.9.59 1.41.59.51 0 1.02-.2 1.41-.59l7.78-7.78 2.81-2.81c.8-.78.8-2.07 0-2.86zM5.41 20L4 18.59l7.72-7.72 1.47 1.35L5.41 20z\"/>\n",
              "  </svg>\n",
              "      </button>\n",
              "      \n",
              "  <style>\n",
              "    .colab-df-container {\n",
              "      display:flex;\n",
              "      flex-wrap:wrap;\n",
              "      gap: 12px;\n",
              "    }\n",
              "\n",
              "    .colab-df-convert {\n",
              "      background-color: #E8F0FE;\n",
              "      border: none;\n",
              "      border-radius: 50%;\n",
              "      cursor: pointer;\n",
              "      display: none;\n",
              "      fill: #1967D2;\n",
              "      height: 32px;\n",
              "      padding: 0 0 0 0;\n",
              "      width: 32px;\n",
              "    }\n",
              "\n",
              "    .colab-df-convert:hover {\n",
              "      background-color: #E2EBFA;\n",
              "      box-shadow: 0px 1px 2px rgba(60, 64, 67, 0.3), 0px 1px 3px 1px rgba(60, 64, 67, 0.15);\n",
              "      fill: #174EA6;\n",
              "    }\n",
              "\n",
              "    [theme=dark] .colab-df-convert {\n",
              "      background-color: #3B4455;\n",
              "      fill: #D2E3FC;\n",
              "    }\n",
              "\n",
              "    [theme=dark] .colab-df-convert:hover {\n",
              "      background-color: #434B5C;\n",
              "      box-shadow: 0px 1px 3px 1px rgba(0, 0, 0, 0.15);\n",
              "      filter: drop-shadow(0px 1px 2px rgba(0, 0, 0, 0.3));\n",
              "      fill: #FFFFFF;\n",
              "    }\n",
              "  </style>\n",
              "\n",
              "      <script>\n",
              "        const buttonEl =\n",
              "          document.querySelector('#df-ec604a49-6618-4052-8e4a-68c861691492 button.colab-df-convert');\n",
              "        buttonEl.style.display =\n",
              "          google.colab.kernel.accessAllowed ? 'block' : 'none';\n",
              "\n",
              "        async function convertToInteractive(key) {\n",
              "          const element = document.querySelector('#df-ec604a49-6618-4052-8e4a-68c861691492');\n",
              "          const dataTable =\n",
              "            await google.colab.kernel.invokeFunction('convertToInteractive',\n",
              "                                                     [key], {});\n",
              "          if (!dataTable) return;\n",
              "\n",
              "          const docLinkHtml = 'Like what you see? Visit the ' +\n",
              "            '<a target=\"_blank\" href=https://colab.research.google.com/notebooks/data_table.ipynb>data table notebook</a>'\n",
              "            + ' to learn more about interactive tables.';\n",
              "          element.innerHTML = '';\n",
              "          dataTable['output_type'] = 'display_data';\n",
              "          await google.colab.output.renderOutput(dataTable, element);\n",
              "          const docLink = document.createElement('div');\n",
              "          docLink.innerHTML = docLinkHtml;\n",
              "          element.appendChild(docLink);\n",
              "        }\n",
              "      </script>\n",
              "    </div>\n",
              "  </div>\n",
              "  "
            ]
          },
          "metadata": {},
          "execution_count": 327
        }
      ]
    },
    {
      "cell_type": "code",
      "source": [
        "corr = total_credit.corr()\n",
        "corr = (corr)\n",
        "sns.heatmap(corr, \n",
        "            xticklabels=corr.columns.values,\n",
        "            yticklabels=corr.columns.values)\n",
        "\n",
        "corr"
      ],
      "metadata": {
        "colab": {
          "base_uri": "https://localhost:8080/",
          "height": 621
        },
        "id": "zJsWwJmyewvz",
        "outputId": "5f0d368c-72bf-4580-8b46-cbada576c2fc"
      },
      "execution_count": 328,
      "outputs": [
        {
          "output_type": "execute_result",
          "data": {
            "text/plain": [
              "                 expense   balance   max_txn  mean_txn  txn_times  \\\n",
              "expense         1.000000  0.011052  0.312248 -0.213881   0.653522   \n",
              "balance         0.011052  1.000000  0.158644  0.272791  -0.134970   \n",
              "max_txn         0.312248  0.158644  1.000000  0.271480   0.046269   \n",
              "mean_txn       -0.213881  0.272791  0.271480  1.000000  -0.590261   \n",
              "txn_times       0.653522 -0.134970  0.046269 -0.590261   1.000000   \n",
              "purchase_times  0.589905 -0.172874  0.001510 -0.582894   0.956976   \n",
              "age            -0.086176  0.231963 -0.122263  0.175525  -0.168069   \n",
              "salary          0.373477  0.186986  0.497298  0.441326   0.099279   \n",
              "\n",
              "                purchase_times       age    salary  \n",
              "expense               0.589905 -0.086176  0.373477  \n",
              "balance              -0.172874  0.231963  0.186986  \n",
              "max_txn               0.001510 -0.122263  0.497298  \n",
              "mean_txn             -0.582894  0.175525  0.441326  \n",
              "txn_times             0.956976 -0.168069  0.099279  \n",
              "purchase_times        1.000000 -0.157512 -0.063520  \n",
              "age                  -0.157512  1.000000 -0.036504  \n",
              "salary               -0.063520 -0.036504  1.000000  "
            ],
            "text/html": [
              "\n",
              "  <div id=\"df-54b62af1-db84-48df-92e3-bd24595883c3\">\n",
              "    <div class=\"colab-df-container\">\n",
              "      <div>\n",
              "<style scoped>\n",
              "    .dataframe tbody tr th:only-of-type {\n",
              "        vertical-align: middle;\n",
              "    }\n",
              "\n",
              "    .dataframe tbody tr th {\n",
              "        vertical-align: top;\n",
              "    }\n",
              "\n",
              "    .dataframe thead th {\n",
              "        text-align: right;\n",
              "    }\n",
              "</style>\n",
              "<table border=\"1\" class=\"dataframe\">\n",
              "  <thead>\n",
              "    <tr style=\"text-align: right;\">\n",
              "      <th></th>\n",
              "      <th>expense</th>\n",
              "      <th>balance</th>\n",
              "      <th>max_txn</th>\n",
              "      <th>mean_txn</th>\n",
              "      <th>txn_times</th>\n",
              "      <th>purchase_times</th>\n",
              "      <th>age</th>\n",
              "      <th>salary</th>\n",
              "    </tr>\n",
              "  </thead>\n",
              "  <tbody>\n",
              "    <tr>\n",
              "      <th>expense</th>\n",
              "      <td>1.000000</td>\n",
              "      <td>0.011052</td>\n",
              "      <td>0.312248</td>\n",
              "      <td>-0.213881</td>\n",
              "      <td>0.653522</td>\n",
              "      <td>0.589905</td>\n",
              "      <td>-0.086176</td>\n",
              "      <td>0.373477</td>\n",
              "    </tr>\n",
              "    <tr>\n",
              "      <th>balance</th>\n",
              "      <td>0.011052</td>\n",
              "      <td>1.000000</td>\n",
              "      <td>0.158644</td>\n",
              "      <td>0.272791</td>\n",
              "      <td>-0.134970</td>\n",
              "      <td>-0.172874</td>\n",
              "      <td>0.231963</td>\n",
              "      <td>0.186986</td>\n",
              "    </tr>\n",
              "    <tr>\n",
              "      <th>max_txn</th>\n",
              "      <td>0.312248</td>\n",
              "      <td>0.158644</td>\n",
              "      <td>1.000000</td>\n",
              "      <td>0.271480</td>\n",
              "      <td>0.046269</td>\n",
              "      <td>0.001510</td>\n",
              "      <td>-0.122263</td>\n",
              "      <td>0.497298</td>\n",
              "    </tr>\n",
              "    <tr>\n",
              "      <th>mean_txn</th>\n",
              "      <td>-0.213881</td>\n",
              "      <td>0.272791</td>\n",
              "      <td>0.271480</td>\n",
              "      <td>1.000000</td>\n",
              "      <td>-0.590261</td>\n",
              "      <td>-0.582894</td>\n",
              "      <td>0.175525</td>\n",
              "      <td>0.441326</td>\n",
              "    </tr>\n",
              "    <tr>\n",
              "      <th>txn_times</th>\n",
              "      <td>0.653522</td>\n",
              "      <td>-0.134970</td>\n",
              "      <td>0.046269</td>\n",
              "      <td>-0.590261</td>\n",
              "      <td>1.000000</td>\n",
              "      <td>0.956976</td>\n",
              "      <td>-0.168069</td>\n",
              "      <td>0.099279</td>\n",
              "    </tr>\n",
              "    <tr>\n",
              "      <th>purchase_times</th>\n",
              "      <td>0.589905</td>\n",
              "      <td>-0.172874</td>\n",
              "      <td>0.001510</td>\n",
              "      <td>-0.582894</td>\n",
              "      <td>0.956976</td>\n",
              "      <td>1.000000</td>\n",
              "      <td>-0.157512</td>\n",
              "      <td>-0.063520</td>\n",
              "    </tr>\n",
              "    <tr>\n",
              "      <th>age</th>\n",
              "      <td>-0.086176</td>\n",
              "      <td>0.231963</td>\n",
              "      <td>-0.122263</td>\n",
              "      <td>0.175525</td>\n",
              "      <td>-0.168069</td>\n",
              "      <td>-0.157512</td>\n",
              "      <td>1.000000</td>\n",
              "      <td>-0.036504</td>\n",
              "    </tr>\n",
              "    <tr>\n",
              "      <th>salary</th>\n",
              "      <td>0.373477</td>\n",
              "      <td>0.186986</td>\n",
              "      <td>0.497298</td>\n",
              "      <td>0.441326</td>\n",
              "      <td>0.099279</td>\n",
              "      <td>-0.063520</td>\n",
              "      <td>-0.036504</td>\n",
              "      <td>1.000000</td>\n",
              "    </tr>\n",
              "  </tbody>\n",
              "</table>\n",
              "</div>\n",
              "      <button class=\"colab-df-convert\" onclick=\"convertToInteractive('df-54b62af1-db84-48df-92e3-bd24595883c3')\"\n",
              "              title=\"Convert this dataframe to an interactive table.\"\n",
              "              style=\"display:none;\">\n",
              "        \n",
              "  <svg xmlns=\"http://www.w3.org/2000/svg\" height=\"24px\"viewBox=\"0 0 24 24\"\n",
              "       width=\"24px\">\n",
              "    <path d=\"M0 0h24v24H0V0z\" fill=\"none\"/>\n",
              "    <path d=\"M18.56 5.44l.94 2.06.94-2.06 2.06-.94-2.06-.94-.94-2.06-.94 2.06-2.06.94zm-11 1L8.5 8.5l.94-2.06 2.06-.94-2.06-.94L8.5 2.5l-.94 2.06-2.06.94zm10 10l.94 2.06.94-2.06 2.06-.94-2.06-.94-.94-2.06-.94 2.06-2.06.94z\"/><path d=\"M17.41 7.96l-1.37-1.37c-.4-.4-.92-.59-1.43-.59-.52 0-1.04.2-1.43.59L10.3 9.45l-7.72 7.72c-.78.78-.78 2.05 0 2.83L4 21.41c.39.39.9.59 1.41.59.51 0 1.02-.2 1.41-.59l7.78-7.78 2.81-2.81c.8-.78.8-2.07 0-2.86zM5.41 20L4 18.59l7.72-7.72 1.47 1.35L5.41 20z\"/>\n",
              "  </svg>\n",
              "      </button>\n",
              "      \n",
              "  <style>\n",
              "    .colab-df-container {\n",
              "      display:flex;\n",
              "      flex-wrap:wrap;\n",
              "      gap: 12px;\n",
              "    }\n",
              "\n",
              "    .colab-df-convert {\n",
              "      background-color: #E8F0FE;\n",
              "      border: none;\n",
              "      border-radius: 50%;\n",
              "      cursor: pointer;\n",
              "      display: none;\n",
              "      fill: #1967D2;\n",
              "      height: 32px;\n",
              "      padding: 0 0 0 0;\n",
              "      width: 32px;\n",
              "    }\n",
              "\n",
              "    .colab-df-convert:hover {\n",
              "      background-color: #E2EBFA;\n",
              "      box-shadow: 0px 1px 2px rgba(60, 64, 67, 0.3), 0px 1px 3px 1px rgba(60, 64, 67, 0.15);\n",
              "      fill: #174EA6;\n",
              "    }\n",
              "\n",
              "    [theme=dark] .colab-df-convert {\n",
              "      background-color: #3B4455;\n",
              "      fill: #D2E3FC;\n",
              "    }\n",
              "\n",
              "    [theme=dark] .colab-df-convert:hover {\n",
              "      background-color: #434B5C;\n",
              "      box-shadow: 0px 1px 3px 1px rgba(0, 0, 0, 0.15);\n",
              "      filter: drop-shadow(0px 1px 2px rgba(0, 0, 0, 0.3));\n",
              "      fill: #FFFFFF;\n",
              "    }\n",
              "  </style>\n",
              "\n",
              "      <script>\n",
              "        const buttonEl =\n",
              "          document.querySelector('#df-54b62af1-db84-48df-92e3-bd24595883c3 button.colab-df-convert');\n",
              "        buttonEl.style.display =\n",
              "          google.colab.kernel.accessAllowed ? 'block' : 'none';\n",
              "\n",
              "        async function convertToInteractive(key) {\n",
              "          const element = document.querySelector('#df-54b62af1-db84-48df-92e3-bd24595883c3');\n",
              "          const dataTable =\n",
              "            await google.colab.kernel.invokeFunction('convertToInteractive',\n",
              "                                                     [key], {});\n",
              "          if (!dataTable) return;\n",
              "\n",
              "          const docLinkHtml = 'Like what you see? Visit the ' +\n",
              "            '<a target=\"_blank\" href=https://colab.research.google.com/notebooks/data_table.ipynb>data table notebook</a>'\n",
              "            + ' to learn more about interactive tables.';\n",
              "          element.innerHTML = '';\n",
              "          dataTable['output_type'] = 'display_data';\n",
              "          await google.colab.output.renderOutput(dataTable, element);\n",
              "          const docLink = document.createElement('div');\n",
              "          docLink.innerHTML = docLinkHtml;\n",
              "          element.appendChild(docLink);\n",
              "        }\n",
              "      </script>\n",
              "    </div>\n",
              "  </div>\n",
              "  "
            ]
          },
          "metadata": {},
          "execution_count": 328
        },
        {
          "output_type": "display_data",
          "data": {
            "text/plain": [
              "<Figure size 432x288 with 2 Axes>"
            ],
            "image/png": "[encoded data removed]"
          },
          "metadata": {
            "needs_background": "light"
          }
        }
      ]
    },
    {
      "cell_type": "code",
      "source": [
        "X = total_credit.iloc[:, 1:-1].values    # Features => age, <gender>, balance, expense and income => Independent Variable\n",
        "y = total_credit.iloc[:, -1].values     # Target => salary => Dependent Variable\n",
        "\n",
        "X"
      ],
      "metadata": {
        "colab": {
          "base_uri": "https://localhost:8080/"
        },
        "id": "QqJFiehM0lYV",
        "outputId": "8bfecec9-72a2-47b1-e63a-9a9b2203726d"
      },
      "execution_count": 329,
      "outputs": [
        {
          "output_type": "execute_result",
          "data": {
            "text/plain": [
              "array([[1.21762000e+03, 2.27585205e+03, 9.70470000e+02, 2.22862603e+02,\n",
              "        7.30000000e+01, 2.60000000e+01, 5.30000000e+01],\n",
              "       [2.97794000e+03, 9.82992900e+03, 3.57865000e+03, 3.39843700e+02,\n",
              "        1.00000000e+02, 2.60000000e+01, 2.10000000e+01],\n",
              "       [1.83718000e+03, 5.69921225e+03, 1.91651000e+03, 2.12632500e+02,\n",
              "        8.00000000e+01, 3.90000000e+01, 2.80000000e+01],\n",
              "       [2.24425000e+03, 9.03284119e+03, 1.71139000e+03, 2.45600169e+02,\n",
              "        1.18000000e+02, 3.80000000e+01, 3.40000000e+01],\n",
              "       [2.90820333e+03, 2.22724338e+04, 3.90373000e+03, 1.47145796e+02,\n",
              "        2.45000000e+02, 7.40000000e+01, 3.40000000e+01],\n",
              "       [1.53986333e+03, 8.47579600e+03, 2.28236000e+03, 2.74614800e+02,\n",
              "        7.50000000e+01, 2.70000000e+01, 2.50000000e+01],\n",
              "       [1.07652667e+03, 4.92385364e+03, 1.25100000e+03, 2.36035000e+02,\n",
              "        4.40000000e+01, 1.10000000e+01, 4.40000000e+01],\n",
              "       [4.28856000e+03, 5.00394051e+03, 7.08109000e+03, 2.48545128e+02,\n",
              "        1.17000000e+02, 3.20000000e+01, 3.00000000e+01],\n",
              "       [2.35084667e+03, 5.44833457e+03, 1.13879000e+03, 1.09833216e+02,\n",
              "        1.99000000e+02, 7.10000000e+01, 2.00000000e+01],\n",
              "       [1.02168333e+03, 5.55392947e+03, 2.02368000e+03, 2.26721184e+02,\n",
              "        7.60000000e+01, 1.10000000e+01, 2.10000000e+01],\n",
              "       [1.91423667e+03, 1.01627890e+04, 3.78578000e+03, 4.18742468e+02,\n",
              "        7.70000000e+01, 2.40000000e+01, 5.20000000e+01],\n",
              "       [1.35884667e+03, 6.21871147e+03, 1.04312000e+03, 1.83139412e+02,\n",
              "        1.02000000e+02, 2.10000000e+01, 6.90000000e+01],\n",
              "       [1.90226667e+03, 3.21367768e+03, 1.40808000e+03, 1.00408774e+02,\n",
              "        1.55000000e+02, 5.30000000e+01, 2.40000000e+01],\n",
              "       [2.39451667e+03, 1.33683705e+04, 3.90395000e+03, 2.97510345e+02,\n",
              "        1.16000000e+02, 3.50000000e+01, 2.30000000e+01],\n",
              "       [1.93370667e+03, 1.41568889e+04, 3.64951000e+03, 3.04375604e+02,\n",
              "        9.10000000e+01, 3.30000000e+01, 3.80000000e+01],\n",
              "       [1.59570667e+03, 1.99772980e+04, 2.47045000e+03, 2.28021163e+02,\n",
              "        8.60000000e+01, 2.00000000e+01, 4.60000000e+01],\n",
              "       [1.40700000e+03, 6.85028713e+03, 2.50000000e+03, 1.57549180e+02,\n",
              "        1.22000000e+02, 4.60000000e+01, 3.80000000e+01],\n",
              "       [2.08351000e+03, 5.66857958e+04, 2.85474000e+03, 2.88629259e+02,\n",
              "        8.10000000e+01, 2.00000000e+01, 1.90000000e+01],\n",
              "       [2.56309000e+03, 3.33142448e+03, 8.92090000e+02, 7.44650193e+01,\n",
              "        2.59000000e+02, 1.11000000e+02, 4.00000000e+01],\n",
              "       [3.26145333e+03, 5.76426016e+03, 3.32877000e+03, 2.68989837e+02,\n",
              "        1.23000000e+02, 3.80000000e+01, 2.20000000e+01],\n",
              "       [2.72870667e+03, 6.60907657e+03, 1.39549000e+03, 1.67005904e+02,\n",
              "        1.66000000e+02, 5.50000000e+01, 2.00000000e+01],\n",
              "       [4.85403333e+02, 5.42406415e+04, 7.82420000e+02, 3.18977941e+02,\n",
              "        3.40000000e+01, 3.00000000e+00, 7.80000000e+01],\n",
              "       [2.25225667e+03, 5.55127617e+03, 1.23380000e+03, 1.92534870e+02,\n",
              "        1.15000000e+02, 4.40000000e+01, 2.60000000e+01],\n",
              "       [1.03314000e+03, 2.85080705e+03, 5.76000000e+02, 1.20311591e+02,\n",
              "        8.80000000e+01, 2.60000000e+01, 6.40000000e+01],\n",
              "       [2.38042333e+03, 4.85974087e+03, 1.22533000e+03, 1.00306783e+02,\n",
              "        2.30000000e+02, 8.50000000e+01, 2.50000000e+01],\n",
              "       [3.08493333e+02, 4.51314880e+03, 4.86362000e+03, 4.26108800e+02,\n",
              "        2.50000000e+01, 8.00000000e+00, 2.70000000e+01],\n",
              "       [2.33052000e+03, 1.20517447e+04, 3.07114000e+03, 1.97844028e+02,\n",
              "        1.44000000e+02, 2.80000000e+01, 3.90000000e+01],\n",
              "       [1.62387333e+03, 6.54204042e+04, 8.83598000e+03, 5.15583846e+02,\n",
              "        7.80000000e+01, 1.10000000e+01, 4.00000000e+01],\n",
              "       [8.46920000e+02, 4.02443724e+03, 7.61330000e+02, 1.26918878e+02,\n",
              "        9.80000000e+01, 3.90000000e+01, 1.80000000e+01],\n",
              "       [1.96629000e+03, 7.57929155e+03, 2.88734000e+03, 2.00197500e+02,\n",
              "        1.16000000e+02, 3.40000000e+01, 4.40000000e+01],\n",
              "       [2.32226000e+03, 9.52584452e+03, 2.30867000e+03, 1.67893548e+02,\n",
              "        1.24000000e+02, 4.10000000e+01, 3.50000000e+01],\n",
              "       [1.77717667e+03, 6.99870836e+03, 2.48537000e+03, 1.95940690e+02,\n",
              "        1.16000000e+02, 3.80000000e+01, 1.90000000e+01],\n",
              "       [2.06276333e+03, 1.20716255e+04, 2.28036000e+03, 3.14324298e+02,\n",
              "        1.14000000e+02, 1.20000000e+01, 4.00000000e+01],\n",
              "       [1.98395333e+03, 3.58169519e+04, 1.95600000e+03, 2.22325932e+02,\n",
              "        1.18000000e+02, 3.70000000e+01, 2.10000000e+01],\n",
              "       [1.30376667e+03, 7.63609449e+03, 2.88652000e+03, 1.79918814e+02,\n",
              "        1.18000000e+02, 3.40000000e+01, 3.10000000e+01],\n",
              "       [5.12480000e+02, 1.18014238e+04, 3.02695000e+03, 2.35262759e+02,\n",
              "        5.80000000e+01, 1.50000000e+01, 2.00000000e+01],\n",
              "       [3.55625333e+03, 1.19129142e+03, 2.34955000e+03, 7.82061056e+01,\n",
              "        3.03000000e+02, 1.54000000e+02, 3.80000000e+01],\n",
              "       [2.06055667e+03, 1.41647929e+04, 2.44324000e+03, 3.75681089e+02,\n",
              "        1.01000000e+02, 1.70000000e+01, 3.50000000e+01],\n",
              "       [1.27301333e+03, 3.65148547e+03, 6.10723000e+03, 1.08334459e+02,\n",
              "        1.48000000e+02, 6.10000000e+01, 2.50000000e+01],\n",
              "       [1.93847333e+03, 2.03395667e+04, 1.88304000e+03, 1.27645254e+02,\n",
              "        1.18000000e+02, 4.50000000e+01, 3.80000000e+01],\n",
              "       [1.21015333e+03, 7.12755182e+03, 2.21873000e+03, 1.92532273e+02,\n",
              "        8.80000000e+01, 1.10000000e+01, 2.20000000e+01],\n",
              "       [9.81456667e+02, 1.18857449e+04, 2.63976000e+03, 2.20852474e+02,\n",
              "        9.70000000e+01, 1.30000000e+01, 1.90000000e+01],\n",
              "       [2.04833333e+03, 4.43550298e+03, 2.10151000e+03, 1.54992231e+02,\n",
              "        1.21000000e+02, 3.40000000e+01, 4.10000000e+01],\n",
              "       [2.30890333e+03, 2.63753766e+05, 2.17996000e+03, 2.98604030e+02,\n",
              "        6.70000000e+01, 1.10000000e+01, 4.60000000e+01],\n",
              "       [2.22712333e+03, 1.21407137e+04, 5.10351000e+03, 2.31646906e+02,\n",
              "        1.39000000e+02, 4.30000000e+01, 3.90000000e+01],\n",
              "       [9.28540000e+02, 5.99314583e+03, 1.64083000e+03, 1.75425000e+02,\n",
              "        7.20000000e+01, 1.90000000e+01, 2.00000000e+01],\n",
              "       [4.00673667e+03, 1.73512067e+03, 1.45221000e+03, 4.53487716e+01,\n",
              "        5.78000000e+02, 2.59000000e+02, 2.60000000e+01],\n",
              "       [1.21250000e+03, 9.74025786e+03, 1.62648000e+03, 3.14383571e+02,\n",
              "        8.40000000e+01, 2.00000000e+00, 2.30000000e+01],\n",
              "       [1.46883667e+03, 1.17479125e+04, 1.94657000e+03, 2.91293333e+02,\n",
              "        1.02000000e+02, 3.70000000e+01, 4.00000000e+01],\n",
              "       [1.66032667e+03, 3.39788379e+03, 1.63036000e+03, 1.19057581e+02,\n",
              "        1.24000000e+02, 4.60000000e+01, 4.30000000e+01],\n",
              "       [1.98301000e+03, 1.49735290e+04, 4.40530000e+03, 2.74523358e+02,\n",
              "        1.34000000e+02, 3.00000000e+01, 2.90000000e+01],\n",
              "       [8.55436667e+02, 7.14911017e+03, 9.20710000e+02, 2.26913833e+02,\n",
              "        6.00000000e+01, 1.00000000e+00, 2.60000000e+01],\n",
              "       [2.13889000e+03, 3.65310889e+03, 1.34500000e+03, 2.17716296e+02,\n",
              "        8.10000000e+01, 1.00000000e+01, 3.50000000e+01],\n",
              "       [3.04364667e+03, 3.94278736e+04, 4.05477000e+03, 2.02785212e+02,\n",
              "        1.65000000e+02, 2.50000000e+01, 2.80000000e+01],\n",
              "       [2.20948000e+03, 5.59298008e+03, 2.32030000e+03, 1.59304186e+02,\n",
              "        1.29000000e+02, 4.10000000e+01, 2.00000000e+01],\n",
              "       [3.18437333e+03, 2.86396008e+03, 4.09433000e+03, 8.98743515e+01,\n",
              "        2.39000000e+02, 9.30000000e+01, 3.70000000e+01],\n",
              "       [4.10909333e+03, 1.12867145e+04, 4.23300000e+03, 5.67614500e+02,\n",
              "        8.00000000e+01, 2.20000000e+01, 3.50000000e+01],\n",
              "       [1.88222000e+03, 1.11300798e+05, 3.23126000e+03, 4.48658413e+02,\n",
              "        6.30000000e+01, 1.10000000e+01, 4.20000000e+01],\n",
              "       [1.15461667e+03, 2.79107807e+04, 1.43698000e+03, 3.07334318e+02,\n",
              "        4.40000000e+01, 1.60000000e+01, 5.00000000e+01],\n",
              "       [3.06443000e+03, 5.85497736e+03, 2.84015000e+03, 9.95696575e+01,\n",
              "        2.92000000e+02, 1.25000000e+02, 2.70000000e+01],\n",
              "       [2.16994667e+03, 6.14913506e+04, 2.71851000e+03, 1.64179137e+02,\n",
              "        1.39000000e+02, 4.60000000e+01, 3.30000000e+01],\n",
              "       [2.68513667e+03, 3.69348022e+03, 1.62700000e+03, 1.53332336e+02,\n",
              "        1.37000000e+02, 4.00000000e+01, 3.10000000e+01],\n",
              "       [3.01472333e+03, 1.24717843e+04, 2.58801000e+03, 2.61891411e+02,\n",
              "        1.63000000e+02, 3.30000000e+01, 4.30000000e+01],\n",
              "       [1.37308667e+03, 3.78420778e+04, 1.90904000e+03, 3.35183673e+02,\n",
              "        4.90000000e+01, 4.00000000e+00, 4.20000000e+01],\n",
              "       [9.62876667e+02, 1.02143680e+04, 3.67694000e+03, 4.89220980e+02,\n",
              "        5.10000000e+01, 9.00000000e+00, 1.90000000e+01],\n",
              "       [1.54709333e+03, 6.13865254e+03, 1.39623000e+03, 1.80891032e+02,\n",
              "        1.26000000e+02, 2.70000000e+01, 2.70000000e+01],\n",
              "       [1.17803667e+03, 5.47388595e+03, 1.12308000e+03, 3.92840811e+02,\n",
              "        3.70000000e+01, 8.00000000e+00, 3.70000000e+01],\n",
              "       [2.64971667e+03, 3.86876728e+04, 1.98100000e+03, 3.17661765e+02,\n",
              "        1.02000000e+02, 1.60000000e+01, 3.80000000e+01],\n",
              "       [3.77886667e+03, 3.16358294e+03, 3.68071000e+03, 1.68607423e+02,\n",
              "        1.63000000e+02, 6.40000000e+01, 2.10000000e+01],\n",
              "       [1.54071000e+03, 3.03312187e+04, 1.27000000e+03, 2.54994615e+02,\n",
              "        5.20000000e+01, 1.00000000e+01, 4.30000000e+01],\n",
              "       [6.40310000e+02, 6.95352702e+03, 9.83360000e+02, 3.33786596e+02,\n",
              "        4.70000000e+01, 1.50000000e+01, 2.20000000e+01],\n",
              "       [1.28789000e+03, 4.15387339e+03, 1.84314000e+03, 2.40685645e+02,\n",
              "        6.20000000e+01, 1.60000000e+01, 2.60000000e+01],\n",
              "       [2.07315333e+03, 3.69277184e+03, 1.23900000e+03, 1.45500426e+02,\n",
              "        1.41000000e+02, 5.10000000e+01, 2.00000000e+01],\n",
              "       [1.69829667e+03, 1.08751310e+04, 4.13223000e+03, 2.34624138e+02,\n",
              "        1.45000000e+02, 3.00000000e+01, 1.80000000e+01],\n",
              "       [2.99468000e+03, 3.49316546e+03, 1.24809000e+03, 8.75460000e+01,\n",
              "        2.60000000e+02, 9.50000000e+01, 2.40000000e+01],\n",
              "       [1.22305000e+03, 1.67494250e+04, 1.75781000e+03, 3.55400250e+02,\n",
              "        4.00000000e+01, 5.00000000e+00, 4.20000000e+01],\n",
              "       [1.25034667e+03, 5.01611000e+03, 1.92897000e+03, 2.78633818e+02,\n",
              "        5.50000000e+01, 2.20000000e+01, 2.20000000e+01],\n",
              "       [1.21051000e+03, 4.63387338e+04, 3.19501000e+03, 2.65134767e+02,\n",
              "        8.60000000e+01, 2.30000000e+01, 2.20000000e+01],\n",
              "       [2.07917000e+03, 2.09797155e+03, 1.53768000e+03, 1.59418454e+02,\n",
              "        9.70000000e+01, 3.10000000e+01, 1.80000000e+01],\n",
              "       [2.23046333e+03, 5.45644136e+03, 1.40300000e+03, 2.11213636e+02,\n",
              "        1.10000000e+02, 2.60000000e+01, 4.70000000e+01],\n",
              "       [1.53425333e+03, 3.96775563e+03, 1.68158000e+03, 1.83653000e+02,\n",
              "        8.00000000e+01, 2.70000000e+01, 4.20000000e+01],\n",
              "       [1.01129000e+03, 9.00707613e+03, 2.68785000e+03, 3.09047903e+02,\n",
              "        6.20000000e+01, 7.00000000e+00, 2.50000000e+01],\n",
              "       [2.91693000e+03, 1.12469224e+04, 2.53868000e+03, 1.56932249e+02,\n",
              "        1.69000000e+02, 5.00000000e+01, 2.80000000e+01],\n",
              "       [2.45318667e+03, 5.21057537e+03, 1.06804000e+03, 1.66508358e+02,\n",
              "        1.34000000e+02, 4.20000000e+01, 4.30000000e+01],\n",
              "       [3.98832667e+03, 6.79563339e+03, 3.51761000e+03, 2.10277299e+02,\n",
              "        1.74000000e+02, 6.10000000e+01, 3.40000000e+01],\n",
              "       [9.08813333e+02, 4.66698679e+03, 3.71256000e+03, 1.77745128e+02,\n",
              "        7.80000000e+01, 2.80000000e+01, 2.40000000e+01],\n",
              "       [1.35170333e+03, 8.10173653e+03, 9.90550000e+02, 9.96015294e+01,\n",
              "        1.70000000e+02, 5.80000000e+01, 1.90000000e+01],\n",
              "       [9.90320000e+02, 5.75665790e+04, 2.64738000e+03, 6.93632903e+02,\n",
              "        3.10000000e+01, 4.00000000e+00, 3.80000000e+01],\n",
              "       [1.85961000e+03, 4.35695293e+03, 4.91090000e+03, 1.67398152e+02,\n",
              "        9.20000000e+01, 2.80000000e+01, 3.00000000e+01],\n",
              "       [1.28007667e+03, 4.35715431e+03, 9.82710000e+02, 1.52435413e+02,\n",
              "        1.09000000e+02, 3.30000000e+01, 2.30000000e+01],\n",
              "       [4.01725667e+03, 1.63858316e+04, 6.02449000e+03, 1.00839958e+02,\n",
              "        2.39000000e+02, 1.06000000e+02, 2.40000000e+01],\n",
              "       [2.34377667e+03, 1.98565144e+05, 4.21604000e+03, 2.42010662e+02,\n",
              "        1.51000000e+02, 4.00000000e+01, 4.00000000e+01],\n",
              "       [1.83527667e+03, 5.80077316e+03, 2.57291000e+03, 1.54711842e+02,\n",
              "        1.52000000e+02, 4.30000000e+01, 2.10000000e+01],\n",
              "       [2.36326667e+03, 7.03147018e+03, 1.85200000e+03, 4.97669474e+02,\n",
              "        5.70000000e+01, 1.70000000e+01, 3.00000000e+01],\n",
              "       [1.83625333e+03, 4.02685029e+03, 1.95229000e+03, 1.68848039e+02,\n",
              "        1.02000000e+02, 4.20000000e+01, 1.80000000e+01],\n",
              "       [9.11510000e+02, 4.49755707e+03, 1.18000000e+03, 1.97213276e+02,\n",
              "        5.80000000e+01, 1.40000000e+01, 3.50000000e+01],\n",
              "       [1.77606000e+03, 3.75690290e+03, 1.38300000e+03, 1.51694274e+02,\n",
              "        1.24000000e+02, 5.10000000e+01, 2.10000000e+01],\n",
              "       [2.41605333e+03, 3.46227601e+03, 1.80862000e+03, 7.76818884e+01,\n",
              "        2.33000000e+02, 9.70000000e+01, 3.00000000e+01],\n",
              "       [9.52856667e+02, 8.52883038e+03, 1.43398000e+03, 1.46954487e+02,\n",
              "        7.80000000e+01, 2.10000000e+01, 2.60000000e+01],\n",
              "       [2.93239667e+03, 9.87745270e+03, 3.97746000e+03, 2.05839382e+02,\n",
              "        1.78000000e+02, 5.10000000e+01, 1.90000000e+01]])"
            ]
          },
          "metadata": {},
          "execution_count": 329
        }
      ]
    },
    {
      "cell_type": "code",
      "source": [
        "y"
      ],
      "metadata": {
        "colab": {
          "base_uri": "https://localhost:8080/"
        },
        "id": "I0k7bvbe07cL",
        "outputId": "57f10368-0739-45ec-d027-e276ab1f3c38"
      },
      "execution_count": 350,
      "outputs": [
        {
          "output_type": "execute_result",
          "data": {
            "text/plain": [
              "array([ 50464.44, 100202.2 ,  45996.24,  88992.28, 109304.44,  63906.08,\n",
              "        28623.84,  64856.4 ,  59217.08,  56663.04, 106001.84,  58414.72,\n",
              "        39426.24, 109310.6 ,  87588.24,  59290.8 ,  60000.  ,  68513.76,\n",
              "        46388.68,  93205.56,  78147.44,  37556.16,  61538.96,  29952.  ,\n",
              "        63717.16,  38908.96,  85991.92, 141375.68,  39589.16,  69296.16,\n",
              "        55408.08,  69590.36, 118578.72,  81130.4 ,  69276.48,  48431.2 ,\n",
              "        52110.76, 127048.48,  48857.84,  36986.88,  53249.52,  73913.28,\n",
              "        50436.24,  52319.04, 102070.2 ,  39379.92,  56765.52,  91082.88,\n",
              "       101221.64,  39128.64, 123348.4 ,  44194.08,  44873.4 ,  97314.48,\n",
              "        55687.2 ,  47707.4 , 132327.52,  90475.28,  40235.44,  79524.2 ,\n",
              "        65244.24,  51804.48, 134576.52,  49218.96,  88246.56,  72603.96,\n",
              "        44004.  ,  97809.4 ,  64585.64,  34550.36,  55068.16,  44235.36,\n",
              "        57184.4 , 115702.44,  55111.68,  42187.44,  46295.28,  76680.24,\n",
              "        36904.32,  66168.44,  40357.92,  64508.4 ,  71083.04,  59810.24,\n",
              "        98493.08,  44550.72,  51508.6 ,  74126.64,  39287.2 ,  51100.92,\n",
              "        48195.92, 118049.12,  72041.48,  85109.44,  46854.96,  34815.36,\n",
              "        53927.64,  43406.88,  34415.52, 111368.88])"
            ]
          },
          "metadata": {},
          "execution_count": 350
        }
      ]
    },
    {
      "cell_type": "code",
      "source": [
        "# divide the dataset in some amount of training and testing data\n",
        "# random_state => seed value used by random number generator\n",
        "X_train, X_test, y_train, y_test = train_test_split(X, y, test_size=0.3, random_state=0)"
      ],
      "metadata": {
        "id": "2wOfcjKc1MA8"
      },
      "execution_count": 351,
      "outputs": []
    },
    {
      "cell_type": "code",
      "source": [
        "def result_acc(predictions):\n",
        "    print(\"Mean absolute error =\", round(sm.mean_absolute_error(y_test, predictions), 2)) \n",
        "    print(\"Mean squared error =\", round(sm.mean_squared_error(y_test, predictions), 2)) \n",
        "    print(\"Median absolute error =\", round(sm.median_absolute_error(y_test, predictions), 2)) \n",
        "    print(\"Explain variance score =\", round(sm.explained_variance_score(y_test, predictions), 2)) \n",
        "    print(\"R2 score =\", round(sm.r2_score(y_test, predictions), 2))"
      ],
      "metadata": {
        "id": "U9BIm6RB18fN"
      },
      "execution_count": 352,
      "outputs": []
    },
    {
      "cell_type": "code",
      "source": [
        "model = LinearRegression()\n",
        "model.fit(X_train, y_train)"
      ],
      "metadata": {
        "colab": {
          "base_uri": "https://localhost:8080/"
        },
        "id": "MEOrYtKq1T3-",
        "outputId": "c4b20c20-bc68-4d7a-de40-7f6fead2e84d"
      },
      "execution_count": 353,
      "outputs": [
        {
          "output_type": "execute_result",
          "data": {
            "text/plain": [
              "LinearRegression()"
            ]
          },
          "metadata": {},
          "execution_count": 353
        }
      ]
    },
    {
      "cell_type": "code",
      "source": [
        "predictions = model.predict(X_test)\n",
        "predictions"
      ],
      "metadata": {
        "colab": {
          "base_uri": "https://localhost:8080/"
        },
        "id": "cnIeCMCg14jr",
        "outputId": "49d010b4-9052-4605-aa63-0f94c7019d67"
      },
      "execution_count": 354,
      "outputs": [
        {
          "output_type": "execute_result",
          "data": {
            "text/plain": [
              "array([ 97050.73730982,  46021.32967933,  33454.2332257 ,  75897.36084844,\n",
              "        60961.05550482,  83940.39504618,  44075.01015734,  99772.78850346,\n",
              "        62038.08073626,  36933.29626297, 127801.8590156 ,  71735.64787008,\n",
              "        48929.39909753,  86967.68916319, 117653.62897356,  60351.17238267,\n",
              "        47831.39907546,  60656.29462549,  64755.89227103,  58976.99735339,\n",
              "        86332.88566748, 114031.38465226,  65678.54628004,  48984.54239665,\n",
              "        40172.79136339,  56040.83450561,  37688.48043231, 101308.60035817,\n",
              "        83557.24871652,  41530.69093046])"
            ]
          },
          "metadata": {},
          "execution_count": 354
        }
      ]
    },
    {
      "cell_type": "code",
      "source": [
        "result_acc(predictions)"
      ],
      "metadata": {
        "colab": {
          "base_uri": "https://localhost:8080/"
        },
        "id": "Hpql2RvLUaK5",
        "outputId": "fbcc573e-470a-4d22-cde0-ad8d68ea30c8"
      },
      "execution_count": 355,
      "outputs": [
        {
          "output_type": "stream",
          "name": "stdout",
          "text": [
            "Mean absolute error = 14626.27\n",
            "Mean squared error = 380331203.95\n",
            "Median absolute error = 12249.64\n",
            "Explain variance score = 0.47\n",
            "R2 score = 0.47\n"
          ]
        }
      ]
    },
    {
      "cell_type": "code",
      "source": [
        "sns.distplot(predictions-y_test)"
      ],
      "metadata": {
        "colab": {
          "base_uri": "https://localhost:8080/",
          "height": 348
        },
        "id": "qDyJMMguZUnU",
        "outputId": "a6d99f76-40c9-4a13-af56-5c8d6b744236"
      },
      "execution_count": 356,
      "outputs": [
        {
          "output_type": "stream",
          "name": "stderr",
          "text": [
            "/usr/local/lib/python3.7/dist-packages/seaborn/distributions.py:2619: FutureWarning: `distplot` is a deprecated function and will be removed in a future version. Please adapt your code to use either `displot` (a figure-level function with similar flexibility) or `histplot` (an axes-level function for histograms).\n",
            "  warnings.warn(msg, FutureWarning)\n"
          ]
        },
        {
          "output_type": "execute_result",
          "data": {
            "text/plain": [
              "<matplotlib.axes._subplots.AxesSubplot at 0x7fd4f7545c50>"
            ]
          },
          "metadata": {},
          "execution_count": 356
        },
        {
          "output_type": "display_data",
          "data": {
            "text/plain": [
              "<Figure size 432x288 with 1 Axes>"
            ],
            "image/png": "[encoded data removed]"
          },
          "metadata": {
            "needs_background": "light"
          }
        }
      ]
    },
    {
      "cell_type": "code",
      "source": [
        "class Regressor():\n",
        "    # init methodd initializes all parameters needed to implement regression\n",
        "    def __init__(self, learning_rate=0.01, tol=0.01, seed=None,normalize=False):\n",
        "        self.W = None\n",
        "        self.b = None\n",
        "        self.__lr = learning_rate\n",
        "        self.__tol = tol\n",
        "        self.__length = None\n",
        "        self.__normalize = normalize\n",
        "        self.__m = None\n",
        "        self.__costs = []\n",
        "        self.__iterations = []\n",
        "        np.random.seed(seed if seed is not None else np.random.randint(100))\n",
        "    # random initialization of weights and bias\n",
        "    def __initialize_weights_and_bias(self):\n",
        "        self.W = np.random.randn(self.__length) #(n,1)\n",
        "        self.b = 0\n",
        "    # compute the error function: sum of squared errors \n",
        "    def __computeCost(self,h,Y):\n",
        "        loss = np.square(h-Y)\n",
        "        cost = np.sum(loss)/(2*self.__m)\n",
        "        return cost\n",
        "    # implement optimization function (gradient descent)\n",
        "    def __optimize(self,X,Y):\n",
        "        h = np.dot(X,self.W)+self.b\n",
        "        dW = np.dot( X.T, (h-Y) ) / self.__m\n",
        "        db = np.sum( h-Y )  / self.__m\n",
        "        self.W = self.W - self.__lr*dW\n",
        "        self.b = self.b - self.__lr*db\n",
        "    # normalize the dataset by subtracting the mean and dividing by std deviation\n",
        "    def __normalizeX(self,X):return (X-self.__mean) / (self.__std)\n",
        "    # fit the model to the dataset: training process\n",
        "    def fit(self, X, y, verbose=False):\n",
        "        if self.__normalize:\n",
        "            self.__mean, self.__std = X.mean(axis=0), X.std(axis=0)\n",
        "            X = self.__normalizeX(X)\n",
        "        self.__m,self.__length = X.shape\n",
        "        self.__initialize_weights_and_bias()\n",
        "        last_cost,i = float('inf'),0\n",
        "        while True:\n",
        "            h = np.dot(X,self.W)+self.b\n",
        "            cost = self.__computeCost(h,y)\n",
        "            if verbose: print(f\"Iteration: {i}, Cost: {cost:.3f}\")\n",
        "            self.__optimize(X,y)\n",
        "            if last_cost-cost < self.__tol: break\n",
        "            else: last_cost,i = cost,i+1\n",
        "            self.__costs.append(cost)\n",
        "            self.__iterations.append(i)\n",
        "    # test the model on test data\n",
        "    def predict(self,X):\n",
        "\n",
        "        if self.__normalize: X = self.__normalizeX(X)\n",
        "        return np.dot(X,self.W)+self.b\n",
        "    # plot the iterations vs cost curves\n",
        "    def plot(self,figsize=(7,5)):\n",
        "        plt.figure(figsize=figsize)\n",
        "        plt.plot(self.__iterations,self.__costs)\n",
        "        plt.xlabel('Iterations')\n",
        "        plt.ylabel('Cost')\n",
        "        plt.title(\"Iterations vs Cost\")\n",
        "        plt.show()\n",
        "    # calculates the accuracy\n",
        "    def score(self,X,y):\n",
        "        return 1-(np.sum(((y-self.predict(X))**2))/np.sum((y-np.mean(y))**2))"
      ],
      "metadata": {
        "id": "mU4N0LBPNTbA"
      },
      "execution_count": 357,
      "outputs": []
    },
    {
      "cell_type": "code",
      "source": [
        "regressor = Regressor(normalize=True)\n",
        "regressor.fit(X_train,y_train)"
      ],
      "metadata": {
        "id": "we08MNv5NWY7"
      },
      "execution_count": 358,
      "outputs": []
    },
    {
      "cell_type": "code",
      "source": [
        "train_score = regressor.score(X_train,y_train)\n",
        "test_score = regressor.score(X_test,y_test)\n",
        "print(\"Train Score:\", train_score)\n",
        "print(\"Test Score: \",test_score)"
      ],
      "metadata": {
        "colab": {
          "base_uri": "https://localhost:8080/"
        },
        "id": "pTjxNe0wNehB",
        "outputId": "04d25343-67ed-4cbe-bad9-b55886a3a6f9"
      },
      "execution_count": 359,
      "outputs": [
        {
          "output_type": "stream",
          "name": "stdout",
          "text": [
            "Train Score: 0.7727678351155816\n",
            "Test Score:  0.4714839654653846\n"
          ]
        }
      ]
    },
    {
      "cell_type": "code",
      "source": [
        "regressor.plot()"
      ],
      "metadata": {
        "colab": {
          "base_uri": "https://localhost:8080/",
          "height": 350
        },
        "id": "JJfjmV_QNlsl",
        "outputId": "d6066eb2-a7e9-4edc-b59c-2fe62dd9f915"
      },
      "execution_count": 360,
      "outputs": [
        {
          "output_type": "display_data",
          "data": {
            "text/plain": [
              "<Figure size 504x360 with 1 Axes>"
            ],
            "image/png": "[encoded data removed]"
          },
          "metadata": {
            "needs_background": "light"
          }
        }
      ]
    },
    {
      "cell_type": "code",
      "source": [
        "predictions = regressor.predict(X_test)\n",
        "predictions"
      ],
      "metadata": {
        "colab": {
          "base_uri": "https://localhost:8080/"
        },
        "id": "CwIaPjJPNpMb",
        "outputId": "f7695f40-2491-4197-cf97-e8c2effaf3c6"
      },
      "execution_count": 361,
      "outputs": [
        {
          "output_type": "execute_result",
          "data": {
            "text/plain": [
              "array([ 97036.65643369,  46017.34625506,  33468.1579536 ,  75895.22021314,\n",
              "        60963.96627367,  83946.95488435,  44078.0071446 ,  99758.24546752,\n",
              "        62038.18746555,  36936.28997209, 127781.84672031,  71728.21453378,\n",
              "        48933.77627054,  86967.44321156, 117654.61719838,  60352.77231816,\n",
              "        47838.12272958,  60651.40733343,  64757.54318533,  58973.73517233,\n",
              "        86344.71561377, 114015.2557961 ,  65679.6230189 ,  48988.19649538,\n",
              "        40174.99847937,  56044.20974489,  37694.03467408, 101299.64732266,\n",
              "        83551.20920966,  41540.36409041])"
            ]
          },
          "metadata": {},
          "execution_count": 361
        }
      ]
    },
    {
      "cell_type": "code",
      "source": [
        "sns.distplot(predictions-y_test)"
      ],
      "metadata": {
        "colab": {
          "base_uri": "https://localhost:8080/",
          "height": 348
        },
        "id": "j2JE1VUMZ_2a",
        "outputId": "3af98c83-5c97-4fb5-e1e6-0632cf398d25"
      },
      "execution_count": 362,
      "outputs": [
        {
          "output_type": "stream",
          "name": "stderr",
          "text": [
            "/usr/local/lib/python3.7/dist-packages/seaborn/distributions.py:2619: FutureWarning: `distplot` is a deprecated function and will be removed in a future version. Please adapt your code to use either `displot` (a figure-level function with similar flexibility) or `histplot` (an axes-level function for histograms).\n",
            "  warnings.warn(msg, FutureWarning)\n"
          ]
        },
        {
          "output_type": "execute_result",
          "data": {
            "text/plain": [
              "<matplotlib.axes._subplots.AxesSubplot at 0x7fd4f95c57d0>"
            ]
          },
          "metadata": {},
          "execution_count": 362
        },
        {
          "output_type": "display_data",
          "data": {
            "text/plain": [
              "<Figure size 432x288 with 1 Axes>"
            ],
            "image/png": "[encoded data removed]"
          },
          "metadata": {
            "needs_background": "light"
          }
        }
      ]
    },
    {
      "cell_type": "code",
      "source": [
        "result_acc(predictions)"
      ],
      "metadata": {
        "colab": {
          "base_uri": "https://localhost:8080/"
        },
        "id": "h4lZqIdEOMx1",
        "outputId": "6b084187-d2ff-49a7-e54e-c982e3f2e40a"
      },
      "execution_count": 363,
      "outputs": [
        {
          "output_type": "stream",
          "name": "stdout",
          "text": [
            "Mean absolute error = 14626.51\n",
            "Mean squared error = 380322617.74\n",
            "Median absolute error = 12248.81\n",
            "Explain variance score = 0.47\n",
            "R2 score = 0.47\n"
          ]
        }
      ]
    },
    {
      "cell_type": "code",
      "source": [
        "dtree = tree.DecisionTreeRegressor(random_state=0)\n",
        "dtree.fit(X_train, y_train)"
      ],
      "metadata": {
        "colab": {
          "base_uri": "https://localhost:8080/"
        },
        "id": "e3uqx-6cab0d",
        "outputId": "5018967c-c8ae-44be-8eec-4124cf69ee87"
      },
      "execution_count": 364,
      "outputs": [
        {
          "output_type": "execute_result",
          "data": {
            "text/plain": [
              "DecisionTreeRegressor(random_state=0)"
            ]
          },
          "metadata": {},
          "execution_count": 364
        }
      ]
    },
    {
      "cell_type": "code",
      "source": [
        "predictions = dtree.predict(X_test)\n",
        "predictions"
      ],
      "metadata": {
        "colab": {
          "base_uri": "https://localhost:8080/"
        },
        "id": "Md9ZHAJUj5LX",
        "outputId": "ef749fd6-b93c-4e1e-eb17-0f7d1c3875a1"
      },
      "execution_count": 365,
      "outputs": [
        {
          "output_type": "execute_result",
          "data": {
            "text/plain": [
              "array([ 76680.24,  39426.24,  49218.96,  52110.76,  44004.  ,  49218.96,\n",
              "        69296.16, 109304.44,  63906.08,  44873.4 , 109304.44,  69590.36,\n",
              "        53927.64, 123348.4 ,  64585.64,  63906.08,  59810.24,  57184.4 ,\n",
              "        58414.72,  57184.4 ,  34550.36,  65244.24,  58414.72,  49218.96,\n",
              "        56663.04,  58414.72,  40235.44, 109304.44,  65244.24,  56663.04])"
            ]
          },
          "metadata": {},
          "execution_count": 365
        }
      ]
    },
    {
      "cell_type": "code",
      "source": [
        "result_acc(predictions)"
      ],
      "metadata": {
        "colab": {
          "base_uri": "https://localhost:8080/"
        },
        "id": "qiEzBKrFkLVH",
        "outputId": "93e2430e-f32d-4660-cd7c-82a9d6e3e22f"
      },
      "execution_count": 366,
      "outputs": [
        {
          "output_type": "stream",
          "name": "stdout",
          "text": [
            "Mean absolute error = 13353.79\n",
            "Mean squared error = 387299841.92\n",
            "Median absolute error = 9303.92\n",
            "Explain variance score = 0.49\n",
            "R2 score = 0.46\n"
          ]
        }
      ]
    },
    {
      "cell_type": "code",
      "source": [
        "sns.distplot(predictions-y_test)"
      ],
      "metadata": {
        "colab": {
          "base_uri": "https://localhost:8080/",
          "height": 348
        },
        "id": "Hil5z35el_4g",
        "outputId": "20e0d03f-7858-457b-c8cf-4006f476ff70"
      },
      "execution_count": 367,
      "outputs": [
        {
          "output_type": "stream",
          "name": "stderr",
          "text": [
            "/usr/local/lib/python3.7/dist-packages/seaborn/distributions.py:2619: FutureWarning: `distplot` is a deprecated function and will be removed in a future version. Please adapt your code to use either `displot` (a figure-level function with similar flexibility) or `histplot` (an axes-level function for histograms).\n",
            "  warnings.warn(msg, FutureWarning)\n"
          ]
        },
        {
          "output_type": "execute_result",
          "data": {
            "text/plain": [
              "<matplotlib.axes._subplots.AxesSubplot at 0x7fd4f709b350>"
            ]
          },
          "metadata": {},
          "execution_count": 367
        },
        {
          "output_type": "display_data",
          "data": {
            "text/plain": [
              "<Figure size 432x288 with 1 Axes>"
            ],
            "image/png": "[encoded data removed]"
          },
          "metadata": {
            "needs_background": "light"
          }
        }
      ]
    },
    {
      "cell_type": "markdown",
      "source": [
        "# **Conclusion**\n",
        "\n",
        "\n",
        "\n",
        "1.   Through training the linear regression model, we found that the more relevant continous features (i.e., features of customers' consumption habits) we had extracted from the original data, the more accurate the model is. \n",
        "2.   We utilise mean absolute error (MAE), mean squared error (MSE), explain variance score (EVS) and R2 score to demonstrate the accuracy of the developed models. Our developed model has a good performance.\n",
        "3.   To optimise the linear regression model, we added gradient decsent into the model, but the improvement of the performance is not significant.\n",
        "4.   If the private information is well protected, I think segmenting customers into income brackets for reporting purposes is a good idea. This will enable us to figure out services towards corresponding salary segments. \n",
        "5.   The decision tree model performed less well than the linear regression. \n",
        "\n"
      ],
      "metadata": {
        "id": "hY2cyJRNmJAu"
      }
    }
  ]
}